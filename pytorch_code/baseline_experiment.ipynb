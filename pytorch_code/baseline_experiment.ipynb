{
  "cells": [
    {
      "cell_type": "code",
      "source": [
        "!git clone https://github.com/kmasta/Aiffel_DLThon.git"
      ],
      "metadata": {
        "colab": {
          "base_uri": "https://localhost:8080/"
        },
        "id": "NKgmWhR0fg9a",
        "outputId": "7637eb9d-be00-4c35-f648-55b6aef78b2c"
      },
      "id": "NKgmWhR0fg9a",
      "execution_count": 1,
      "outputs": [
        {
          "output_type": "stream",
          "name": "stdout",
          "text": [
            "Cloning into 'Aiffel_DLThon'...\n",
            "remote: Enumerating objects: 348, done.\u001b[K\n",
            "remote: Counting objects: 100% (251/251), done.\u001b[K\n",
            "remote: Compressing objects: 100% (166/166), done.\u001b[K\n",
            "remote: Total 348 (delta 123), reused 195 (delta 78), pack-reused 97 (from 1)\u001b[K\n",
            "Receiving objects: 100% (348/348), 60.41 MiB | 12.10 MiB/s, done.\n",
            "Resolving deltas: 100% (147/147), done.\n",
            "Updating files: 100% (128/128), done.\n"
          ]
        }
      ]
    },
    {
      "cell_type": "markdown",
      "id": "eb181ba8",
      "metadata": {
        "id": "eb181ba8"
      },
      "source": [
        "# Baseline Code"
      ]
    },
    {
      "cell_type": "markdown",
      "id": "df08a157",
      "metadata": {
        "id": "df08a157"
      },
      "source": [
        "## 필요한 라이브러리 임포트"
      ]
    },
    {
      "cell_type": "code",
      "execution_count": 2,
      "id": "145d5e65",
      "metadata": {
        "id": "145d5e65"
      },
      "outputs": [],
      "source": [
        "import yaml\n",
        "import pandas as pd\n",
        "from transformers import AutoTokenizer, AutoModelForSequenceClassification, Trainer, TrainingArguments, EarlyStoppingCallback, ElectraForSequenceClassification\n",
        "from sklearn.metrics import f1_score, accuracy_score\n",
        "from torch.utils.data import Dataset\n",
        "import torch\n",
        "import os\n",
        "\n",
        "from Aiffel_DLThon.pytorch_code.callback.logger import log_message, log_target_distribution, LoggingCallback\n",
        "from Aiffel_DLThon.pytorch_code.callback.early_stopping import EarlyStopping\n",
        "from Aiffel_DLThon.pytorch_code.callback.checkpoint import save_model\n",
        "from Aiffel_DLThon.pytorch_code.callback.save_results import save_submission"
      ]
    },
    {
      "cell_type": "markdown",
      "id": "f4fe5cd0",
      "metadata": {
        "id": "f4fe5cd0"
      },
      "source": [
        "## 모델 정보 불러오기"
      ]
    },
    {
      "cell_type": "code",
      "execution_count": 16,
      "id": "76cf4acc",
      "metadata": {
        "colab": {
          "base_uri": "https://localhost:8080/"
        },
        "id": "76cf4acc",
        "outputId": "55203e21-b100-4174-98e0-1e18f3d125f7"
      },
      "outputs": [
        {
          "output_type": "stream",
          "name": "stdout",
          "text": [
            "[2025-05-05 11:10:12] Running experiment: klue_roberta_exp1\n"
          ]
        }
      ],
      "source": [
        "# Load model name\n",
        "with open(\"./Aiffel_DLThon/pytorch_code/config/model_name.yaml\", \"r\") as f:\n",
        "    model_name_config = yaml.safe_load(f)\n",
        "model_key = model_name_config[\"model_name\"]\n",
        "\n",
        "# Load full config for that model\n",
        "with open(f\"./Aiffel_DLThon/pytorch_code/config/{model_key}.yaml\", \"r\") as f:\n",
        "    config = yaml.safe_load(f)\n",
        "\n",
        "log_message(f\"Running experiment: {config['experiment_name']}\", config[\"log_dir\"])"
      ]
    },
    {
      "cell_type": "markdown",
      "id": "96c16e5e",
      "metadata": {
        "id": "96c16e5e"
      },
      "source": [
        "## 토크나이저, 모델 구현"
      ]
    },
    {
      "cell_type": "code",
      "source": [
        "from transformers import ElectraPreTrainedModel, ElectraModel\n",
        "from transformers.modeling_outputs import SequenceClassifierOutput\n",
        "import torch.nn.functional as F\n",
        "import torch.nn as nn\n",
        "\n",
        "class ElectraTwoStageModel(ElectraPreTrainedModel):\n",
        "    def __init__(self, config):\n",
        "        super().__init__(config)\n",
        "        self.electra = ElectraModel(config)\n",
        "        self.dropout = nn.Dropout(config.hidden_dropout_prob)\n",
        "        self.stage1_classifier = nn.Linear(config.hidden_size, 2)  # Binary\n",
        "        self.stage2_classifier = nn.Linear(config.hidden_size, 4)  # Multiclass\n",
        "\n",
        "        self.init_weights()\n",
        "\n",
        "    def forward(self, input_ids, attention_mask=None, token_type_ids=None,\n",
        "            binary_labels=None, multiclass_labels=None):\n",
        "        outputs = self.electra(\n",
        "            input_ids=input_ids,\n",
        "            attention_mask=attention_mask,\n",
        "            token_type_ids=token_type_ids\n",
        "        )\n",
        "        cls_output = self.dropout(outputs.last_hidden_state[:, 0, :])\n",
        "\n",
        "        # Stage 1: 일반 vs 특수\n",
        "        stage1_logits = self.stage1_classifier(cls_output)\n",
        "\n",
        "        # Stage 2: 일반 중 세부 분류\n",
        "        stage2_logits = self.stage2_classifier(cls_output)\n",
        "\n",
        "        loss = None\n",
        "        if binary_labels is not None and multiclass_labels is not None:\n",
        "            loss_fct = nn.CrossEntropyLoss()\n",
        "            loss1 = loss_fct(stage1_logits, binary_labels)\n",
        "\n",
        "            mask = (binary_labels == 0)\n",
        "            if mask.sum() > 0:\n",
        "                loss2 = loss_fct(stage2_logits[mask], multiclass_labels[mask])\n",
        "                loss = loss1 + loss2\n",
        "            else:\n",
        "                loss = loss1\n",
        "\n",
        "        return SequenceClassifierOutput(\n",
        "            loss=loss,\n",
        "            logits=stage1_logits\n",
        "        )"
      ],
      "metadata": {
        "id": "s4-3AuysmLvn"
      },
      "id": "s4-3AuysmLvn",
      "execution_count": 4,
      "outputs": []
    },
    {
      "cell_type": "code",
      "execution_count": 9,
      "id": "1b807559",
      "metadata": {
        "colab": {
          "base_uri": "https://localhost:8080/",
          "height": 54
        },
        "id": "1b807559",
        "outputId": "99dd8499-11e2-4049-bab6-2d6302636e15"
      },
      "outputs": [
        {
          "output_type": "execute_result",
          "data": {
            "text/plain": [
              "'model = ElectraForSequenceClassification.from_pretrained(\\n    config[\"pretrained_model_name\"],\\n    num_labels=config[\"num_labels\"]\\n)'"
            ],
            "application/vnd.google.colaboratory.intrinsic+json": {
              "type": "string"
            }
          },
          "metadata": {},
          "execution_count": 9
        }
      ],
      "source": [
        "tokenizer = AutoTokenizer.from_pretrained(config[\"tokenizer_name\"])"
      ]
    },
    {
      "cell_type": "markdown",
      "id": "0c36e166",
      "metadata": {
        "id": "0c36e166"
      },
      "source": [
        "## 커스텀 데이터셋 클래스(토크나이징)"
      ]
    },
    {
      "cell_type": "code",
      "execution_count": 6,
      "id": "f01ade78",
      "metadata": {
        "id": "f01ade78"
      },
      "outputs": [],
      "source": [
        "class TwoStageDataset(Dataset):\n",
        "    def __init__(self, encodings, binary_labels, multiclass_labels):\n",
        "        self.encodings = encodings\n",
        "        self.binary_labels = binary_labels\n",
        "        self.multiclass_labels = multiclass_labels\n",
        "\n",
        "    def __len__(self):\n",
        "        return len(self.binary_labels)\n",
        "\n",
        "    def __getitem__(self, idx):\n",
        "        item = {key: torch.tensor(val[idx]) for key, val in self.encodings.items()}\n",
        "        item[\"labels\"] = torch.tensor(self.binary_labels[idx])\n",
        "        item[\"binary_labels\"] = torch.tensor(self.binary_labels[idx])\n",
        "        item[\"multiclass_labels\"] = torch.tensor(self.multiclass_labels[idx])\n",
        "        return item"
      ]
    },
    {
      "cell_type": "markdown",
      "id": "6386e17e",
      "metadata": {
        "id": "6386e17e"
      },
      "source": [
        "## 데이터 불러오기"
      ]
    },
    {
      "cell_type": "code",
      "execution_count": 7,
      "id": "4425cb18",
      "metadata": {
        "id": "4425cb18"
      },
      "outputs": [],
      "source": [
        "from sklearn.model_selection import train_test_split\n",
        "\n",
        "def prepare_two_stage_dataset(texts, labels, tokenizer, max_length=128, test_size=0.2):\n",
        "    # Stage 1 labels: 0~3 → 0, 4 → 1\n",
        "    binary_labels = [0 if l in [0, 1, 2, 3] else 1 for l in labels]\n",
        "\n",
        "    # Stage 2 labels: 0~3은 그대로, 4는 -1\n",
        "    multiclass_labels = [l if l in [0, 1, 2, 3] else -1 for l in labels]\n",
        "\n",
        "    # Split 먼저\n",
        "    train_texts, val_texts, train_binary, val_binary, train_multi, val_multi = train_test_split(\n",
        "        texts, binary_labels, multiclass_labels, test_size=test_size, stratify=labels, random_state=42\n",
        "    )\n",
        "\n",
        "    # Tokenize 각 split\n",
        "    train_encodings = tokenizer(train_texts, truncation=True, padding=True, max_length=max_length,return_tensors=\"pt\" )\n",
        "    val_encodings = tokenizer(val_texts, truncation=True, padding=True, max_length=max_length,return_tensors=\"pt\" )\n",
        "\n",
        "    # Dataset 생성\n",
        "    train_dataset = TwoStageDataset(train_encodings, train_binary, train_multi)\n",
        "    val_dataset = TwoStageDataset(val_encodings, val_binary, val_multi)\n",
        "\n",
        "    return train_dataset, val_dataset"
      ]
    },
    {
      "cell_type": "code",
      "execution_count": 17,
      "id": "5c8a89a0",
      "metadata": {
        "id": "5c8a89a0",
        "colab": {
          "base_uri": "https://localhost:8080/",
          "height": 72
        },
        "outputId": "90725ec3-6f90-4802-91f3-b91e4192345a"
      },
      "outputs": [
        {
          "output_type": "execute_result",
          "data": {
            "text/plain": [
              "'gen1_df = pd.read_csv(config[\"gen1_file\"])\\ntexts.extend(gen1_df[\"clean_text\"].tolist())\\nlabels.extend([4 for _ in gen1_df[\"label\"].tolist()])\\n\\ngen2_df = pd.read_csv(config[\"gen2_file\"])\\ntexts.extend(gen2_df[\"clean_text\"].tolist())\\nlabels.extend([4 for _ in gen2_df[\"label\"].tolist()])'"
            ],
            "application/vnd.google.colaboratory.intrinsic+json": {
              "type": "string"
            }
          },
          "metadata": {},
          "execution_count": 17
        }
      ],
      "source": [
        "train_df = pd.read_csv(config[\"train_file\"])\n",
        "texts = train_df[\"clean_text\"].tolist()\n",
        "labels = train_df[\"label\"].tolist()\n",
        "\n",
        "daily_df = pd.read_csv(config[\"daily_file\"])\n",
        "texts.extend(daily_df[\"clean_text\"].tolist())\n",
        "labels.extend([4 for _ in daily_df[\"label\"].tolist()])\n",
        "\n",
        "\"\"\"gen1_df = pd.read_csv(config[\"gen1_file\"])\n",
        "texts.extend(gen1_df[\"clean_text\"].tolist())\n",
        "labels.extend([4 for _ in gen1_df[\"label\"].tolist()])\n",
        "\n",
        "gen2_df = pd.read_csv(config[\"gen2_file\"])\n",
        "texts.extend(gen2_df[\"clean_text\"].tolist())\n",
        "labels.extend([4 for _ in gen2_df[\"label\"].tolist()])\"\"\"\n",
        "\n",
        "#ai_daily_df = pd.read_csv(config[\"aihub_daily_file\"])\n",
        "#texts.extend(ai_daily_df[\"conversation\"].tolist())\n",
        "#labels.extend([4 for _ in ai_daily_df[\"class\"].tolist()])\n",
        "\n",
        "#dataset = ChatDataset(texts, labels, tokenizer, config[\"max_length\"])"
      ]
    },
    {
      "cell_type": "code",
      "execution_count": 19,
      "id": "41bec869",
      "metadata": {
        "id": "41bec869"
      },
      "outputs": [],
      "source": [
        "train_dataset, val_dataset = prepare_two_stage_dataset(texts, labels, tokenizer)"
      ]
    },
    {
      "cell_type": "code",
      "execution_count": 21,
      "id": "9ec2d5c3",
      "metadata": {
        "scrolled": true,
        "colab": {
          "base_uri": "https://localhost:8080/"
        },
        "id": "9ec2d5c3",
        "outputId": "5e19c431-b1b2-4ce7-f1fc-c4dd7708341f"
      },
      "outputs": [
        {
          "output_type": "stream",
          "name": "stdout",
          "text": [
            "📊 train label 클래스 분포:\n",
            "0     896\n",
            "1     981\n",
            "2     979\n",
            "3    1094\n",
            "4    3472\n",
            "Name: count, dtype: int64\n"
          ]
        }
      ],
      "source": [
        "label_counts = pd.Series(labels).value_counts().sort_index()\n",
        "\n",
        "print(\"📊 train label 클래스 분포:\")\n",
        "print(label_counts)"
      ]
    },
    {
      "cell_type": "code",
      "execution_count": null,
      "id": "e9a135a6",
      "metadata": {
        "colab": {
          "base_uri": "https://localhost:8080/"
        },
        "id": "e9a135a6",
        "outputId": "c092d6a7-98c3-4d7f-b13f-ebad58d31159"
      },
      "outputs": [
        {
          "output_type": "stream",
          "name": "stdout",
          "text": [
            "📊 validation label 클래스 분포:\n",
            "0     179\n",
            "1     196\n",
            "2     196\n",
            "3     219\n",
            "4    1454\n",
            "Name: count, dtype: int64\n"
          ]
        }
      ],
      "source": [
        "\"\"\"label_counts = pd.Series(val_labels).value_counts().sort_index()\n",
        "\n",
        "print(\"📊 validation label 클래스 분포:\")\n",
        "print(label_counts)\"\"\""
      ]
    },
    {
      "cell_type": "markdown",
      "id": "aa151219",
      "metadata": {
        "id": "aa151219"
      },
      "source": [
        "## 매트릭 함수"
      ]
    },
    {
      "cell_type": "code",
      "source": [
        "from sklearn.metrics import f1_score, accuracy_score\n",
        "import numpy as np\n",
        "from collections import Counter\n",
        "\n",
        "def evaluate_stage1(trainer, val_dataset):\n",
        "    pred_output = trainer.predict(val_dataset)\n",
        "    y_true = pred_output.label_ids\n",
        "    y_pred = np.argmax(pred_output.predictions, axis=1)\n",
        "\n",
        "    # 메트릭 계산\n",
        "    f1 = f1_score(y_true, y_pred, average=\"macro\")\n",
        "    acc = accuracy_score(y_true, y_pred)\n",
        "\n",
        "    # 분포 확인\n",
        "    print(\"📊 Stage 1 정답 분포:\", Counter(y_true))\n",
        "    print(\"📊 Stage 1 예측 분포:\", Counter(y_pred))\n",
        "    print(\"✅ Stage 1 Accuracy:\", acc)\n",
        "    print(\"✅ Stage 1 F1 (macro):\", f1)\n",
        "\n",
        "    return {\n",
        "        \"f1_macro\": f1,\n",
        "        \"accuracy\": acc\n",
        "    }"
      ],
      "metadata": {
        "id": "Lp2eNYV9qY2D"
      },
      "id": "Lp2eNYV9qY2D",
      "execution_count": 22,
      "outputs": []
    },
    {
      "cell_type": "code",
      "source": [
        "from sklearn.metrics import f1_score, accuracy_score\n",
        "import numpy as np\n",
        "from collections import Counter\n",
        "\n",
        "def evaluate_stage2(trainer, val_dataset):\n",
        "    # 예측\n",
        "    pred_output = trainer.predict(val_dataset)\n",
        "    y_true = pred_output.label_ids\n",
        "    y_pred = np.argmax(pred_output.predictions, axis=1)\n",
        "\n",
        "    # 메트릭 계산\n",
        "    f1 = f1_score(y_true, y_pred, average=\"macro\")\n",
        "    acc = accuracy_score(y_true, y_pred)\n",
        "\n",
        "    # 분포 확인\n",
        "    print(\"📊 정답 분포:\", Counter(y_true))\n",
        "    print(\"📊 예측 분포:\", Counter(y_pred))\n",
        "    print(\"✅ Stage 2 Accuracy:\", acc)\n",
        "    print(\"✅ Stage 2 F1 (macro):\", f1)\n",
        "\n",
        "    return {\n",
        "        \"f1_macro\": f1,\n",
        "        \"accuracy\": acc\n",
        "    }\n"
      ],
      "metadata": {
        "id": "mbfXhf3-IVxo"
      },
      "id": "mbfXhf3-IVxo",
      "execution_count": 23,
      "outputs": []
    },
    {
      "cell_type": "code",
      "execution_count": null,
      "id": "a0d16d7e",
      "metadata": {
        "id": "a0d16d7e"
      },
      "outputs": [],
      "source": [
        "\"\"\"def compute_metrics(pred):\n",
        "    labels = pred.label_ids\n",
        "    preds = pred.predictions.argmax(-1)\n",
        "    return {\n",
        "        \"accuracy\": accuracy_score(labels, preds),\n",
        "        \"f1_macro\": f1_score(labels, preds, average=\"macro\")\n",
        "    }\"\"\""
      ]
    },
    {
      "cell_type": "code",
      "source": [
        "def compute_metrics(pred):\n",
        "\n",
        "    # 예외 처리: label_ids가 tuple이면 첫 번째 요소만 사용 (binary classification용)\n",
        "    label_ids = pred.label_ids[0] if isinstance(pred.label_ids, tuple) else pred.label_ids\n",
        "\n",
        "    preds = np.argmax(pred.predictions, axis=1)\n",
        "\n",
        "    return {\n",
        "        \"accuracy\": accuracy_score(label_ids, preds),\n",
        "        \"f1_macro\": f1_score(label_ids, preds, average=\"macro\")\n",
        "    }"
      ],
      "metadata": {
        "id": "W8UMwRlbszIh"
      },
      "id": "W8UMwRlbszIh",
      "execution_count": 24,
      "outputs": []
    },
    {
      "cell_type": "markdown",
      "id": "e4eef9cb",
      "metadata": {
        "id": "e4eef9cb"
      },
      "source": [
        "## 모델 준비"
      ]
    },
    {
      "cell_type": "code",
      "execution_count": 25,
      "id": "a610bfd3",
      "metadata": {
        "id": "a610bfd3",
        "colab": {
          "base_uri": "https://localhost:8080/",
          "height": 49,
          "referenced_widgets": [
            "00422f734ebf41b187ed013326e03d4a",
            "c7163614d63744a29e246befe4a830b3",
            "dcafc804770d42cfbb8359fd2ff55f0d",
            "ed7e28a2abdb4180b97eefa40f99074b",
            "2b2a3b5f6ba149f5bbc62334ea16b1d2",
            "cbe46cbf277f41e0bd3074df5adc77a1",
            "706ec34701794a5cbea669521c2dd0a8",
            "a6a7711367234a6f9c39b5c881de2c0a",
            "cc997fc61ea642069e98409b764a4302",
            "48426a6e456f4d8b92a68a9a8cb51030",
            "17a3a485bbad4c2c828a35b56e337798"
          ]
        },
        "outputId": "0674e803-44ae-4f40-af52-07ceeef13b2b"
      },
      "outputs": [
        {
          "output_type": "display_data",
          "data": {
            "text/plain": [
              "config.json:   0%|          | 0.00/459 [00:00<?, ?B/s]"
            ],
            "application/vnd.jupyter.widget-view+json": {
              "version_major": 2,
              "version_minor": 0,
              "model_id": "00422f734ebf41b187ed013326e03d4a"
            }
          },
          "metadata": {}
        }
      ],
      "source": [
        "training_args = TrainingArguments(\n",
        "    output_dir='./Aiffel_DLThon/ckpoints/tunib',\n",
        "    num_train_epochs=5,\n",
        "    per_device_train_batch_size=32,\n",
        "    eval_strategy=\"epoch\",\n",
        "    save_strategy=\"epoch\",\n",
        "    learning_rate=float(2e-5),\n",
        "    weight_decay=0.01,\n",
        "    warmup_ratio=0.1,\n",
        "    logging_dir='./Aiffel_DLThon//logs/klue_roberta',\n",
        "    save_total_limit=2,\n",
        "    load_best_model_at_end=True,\n",
        "    metric_for_best_model=\"f1_macro\",\n",
        "    logging_strategy=\"steps\",\n",
        "    logging_steps=50,\n",
        "    report_to=\"tensorboard\",\n",
        ")\n",
        "\n",
        "from transformers import AutoConfig\n",
        "\n",
        "config = AutoConfig.from_pretrained(\"tunib/electra-ko-en-base\")\n",
        "two_stage_model = ElectraTwoStageModel(config)\n",
        "\n",
        "trainer = Trainer(\n",
        "    model=two_stage_model,\n",
        "    args=training_args,\n",
        "    train_dataset=train_dataset,\n",
        "    eval_dataset=val_dataset,\n",
        "    compute_metrics=compute_metrics,\n",
        "    callbacks=[\n",
        "        EarlyStoppingCallback(early_stopping_patience=2),\n",
        "        LoggingCallback(),\n",
        "    ]\n",
        ")"
      ]
    },
    {
      "cell_type": "markdown",
      "id": "c28e509d",
      "metadata": {
        "id": "c28e509d"
      },
      "source": [
        "## 모델 학습"
      ]
    },
    {
      "cell_type": "code",
      "execution_count": 26,
      "id": "afd0a20e",
      "metadata": {
        "colab": {
          "base_uri": "https://localhost:8080/",
          "height": 954
        },
        "id": "afd0a20e",
        "outputId": "9cc915b1-1c46-4b69-9eaa-1b142c4231eb"
      },
      "outputs": [
        {
          "output_type": "stream",
          "name": "stderr",
          "text": [
            "<ipython-input-6-cb0432d4889e>:11: UserWarning: To copy construct from a tensor, it is recommended to use sourceTensor.clone().detach() or sourceTensor.clone().detach().requires_grad_(True), rather than torch.tensor(sourceTensor).\n",
            "  item = {key: torch.tensor(val[idx]) for key, val in self.encodings.items()}\n"
          ]
        },
        {
          "output_type": "display_data",
          "data": {
            "text/plain": [
              "<IPython.core.display.HTML object>"
            ],
            "text/html": [
              "\n",
              "    <div>\n",
              "      \n",
              "      <progress value='930' max='930' style='width:300px; height:20px; vertical-align: middle;'></progress>\n",
              "      [930/930 12:32, Epoch 5/5]\n",
              "    </div>\n",
              "    <table border=\"1\" class=\"dataframe\">\n",
              "  <thead>\n",
              " <tr style=\"text-align: left;\">\n",
              "      <th>Epoch</th>\n",
              "      <th>Training Loss</th>\n",
              "      <th>Validation Loss</th>\n",
              "      <th>Accuracy</th>\n",
              "      <th>F1 Macro</th>\n",
              "    </tr>\n",
              "  </thead>\n",
              "  <tbody>\n",
              "    <tr>\n",
              "      <td>1</td>\n",
              "      <td>1.544200</td>\n",
              "      <td>1.401903</td>\n",
              "      <td>0.991919</td>\n",
              "      <td>0.991889</td>\n",
              "    </tr>\n",
              "    <tr>\n",
              "      <td>2</td>\n",
              "      <td>1.120600</td>\n",
              "      <td>1.204749</td>\n",
              "      <td>0.929966</td>\n",
              "      <td>0.928712</td>\n",
              "    </tr>\n",
              "    <tr>\n",
              "      <td>3</td>\n",
              "      <td>0.746900</td>\n",
              "      <td>0.746248</td>\n",
              "      <td>0.999327</td>\n",
              "      <td>0.999324</td>\n",
              "    </tr>\n",
              "    <tr>\n",
              "      <td>4</td>\n",
              "      <td>0.617000</td>\n",
              "      <td>0.626087</td>\n",
              "      <td>0.997306</td>\n",
              "      <td>0.997296</td>\n",
              "    </tr>\n",
              "    <tr>\n",
              "      <td>5</td>\n",
              "      <td>0.472600</td>\n",
              "      <td>0.601778</td>\n",
              "      <td>0.997306</td>\n",
              "      <td>0.997296</td>\n",
              "    </tr>\n",
              "  </tbody>\n",
              "</table><p>"
            ]
          },
          "metadata": {}
        },
        {
          "output_type": "stream",
          "name": "stdout",
          "text": [
            "✅ compute_metrics called\n",
            "🔍 type(pred.label_ids): <class 'tuple'>\n",
            "🔍 label_ids shape: (1485,)\n",
            "🔍 predictions shape: (1485, 2)\n",
            "[2025-05-05 11:12:52] Epoch 01 | Train Loss: 0.0000 | Val Loss: 1.4019 | Val Acc: 0.9919 | Val F1(Macro): 0.9919\n"
          ]
        },
        {
          "output_type": "stream",
          "name": "stderr",
          "text": [
            "<ipython-input-6-cb0432d4889e>:11: UserWarning: To copy construct from a tensor, it is recommended to use sourceTensor.clone().detach() or sourceTensor.clone().detach().requires_grad_(True), rather than torch.tensor(sourceTensor).\n",
            "  item = {key: torch.tensor(val[idx]) for key, val in self.encodings.items()}\n"
          ]
        },
        {
          "output_type": "stream",
          "name": "stdout",
          "text": [
            "✅ compute_metrics called\n",
            "🔍 type(pred.label_ids): <class 'tuple'>\n",
            "🔍 label_ids shape: (1485,)\n",
            "🔍 predictions shape: (1485, 2)\n",
            "[2025-05-05 11:15:12] Epoch 02 | Train Loss: 0.0000 | Val Loss: 1.2047 | Val Acc: 0.9300 | Val F1(Macro): 0.9287\n"
          ]
        },
        {
          "output_type": "stream",
          "name": "stderr",
          "text": [
            "<ipython-input-6-cb0432d4889e>:11: UserWarning: To copy construct from a tensor, it is recommended to use sourceTensor.clone().detach() or sourceTensor.clone().detach().requires_grad_(True), rather than torch.tensor(sourceTensor).\n",
            "  item = {key: torch.tensor(val[idx]) for key, val in self.encodings.items()}\n"
          ]
        },
        {
          "output_type": "stream",
          "name": "stdout",
          "text": [
            "✅ compute_metrics called\n",
            "🔍 type(pred.label_ids): <class 'tuple'>\n",
            "🔍 label_ids shape: (1485,)\n",
            "🔍 predictions shape: (1485, 2)\n",
            "[2025-05-05 11:17:28] Epoch 03 | Train Loss: 0.0000 | Val Loss: 0.7462 | Val Acc: 0.9993 | Val F1(Macro): 0.9993\n"
          ]
        },
        {
          "output_type": "stream",
          "name": "stderr",
          "text": [
            "<ipython-input-6-cb0432d4889e>:11: UserWarning: To copy construct from a tensor, it is recommended to use sourceTensor.clone().detach() or sourceTensor.clone().detach().requires_grad_(True), rather than torch.tensor(sourceTensor).\n",
            "  item = {key: torch.tensor(val[idx]) for key, val in self.encodings.items()}\n"
          ]
        },
        {
          "output_type": "stream",
          "name": "stdout",
          "text": [
            "✅ compute_metrics called\n",
            "🔍 type(pred.label_ids): <class 'tuple'>\n",
            "🔍 label_ids shape: (1485,)\n",
            "🔍 predictions shape: (1485, 2)\n",
            "[2025-05-05 11:19:46] Epoch 04 | Train Loss: 0.0000 | Val Loss: 0.6261 | Val Acc: 0.9973 | Val F1(Macro): 0.9973\n"
          ]
        },
        {
          "output_type": "stream",
          "name": "stderr",
          "text": [
            "<ipython-input-6-cb0432d4889e>:11: UserWarning: To copy construct from a tensor, it is recommended to use sourceTensor.clone().detach() or sourceTensor.clone().detach().requires_grad_(True), rather than torch.tensor(sourceTensor).\n",
            "  item = {key: torch.tensor(val[idx]) for key, val in self.encodings.items()}\n"
          ]
        },
        {
          "output_type": "stream",
          "name": "stdout",
          "text": [
            "✅ compute_metrics called\n",
            "🔍 type(pred.label_ids): <class 'tuple'>\n",
            "🔍 label_ids shape: (1485,)\n",
            "🔍 predictions shape: (1485, 2)\n",
            "[2025-05-05 11:22:17] Epoch 05 | Train Loss: 0.0000 | Val Loss: 0.6018 | Val Acc: 0.9973 | Val F1(Macro): 0.9973\n"
          ]
        },
        {
          "output_type": "execute_result",
          "data": {
            "text/plain": [
              "TrainOutput(global_step=930, training_loss=1.0021146999892367, metrics={'train_runtime': 753.8868, 'train_samples_per_second': 39.376, 'train_steps_per_second': 1.234, 'total_flos': 1939218682821120.0, 'train_loss': 1.0021146999892367, 'epoch': 5.0})"
            ]
          },
          "metadata": {},
          "execution_count": 26
        }
      ],
      "source": [
        "trainer.train()\n",
        "#save_model(two_stage_model, config[\"output_dir\"], epoch=config[\"epochs\"])"
      ]
    },
    {
      "cell_type": "code",
      "source": [
        "from torch.utils.data import Dataset, DataLoader\n",
        "\n",
        "model = two_stage_model\n",
        "class PlainTextDataset(Dataset):\n",
        "    def __init__(self, texts, tokenizer, max_length):\n",
        "        self.encodings = tokenizer(texts, truncation=True, padding=True, max_length=max_length)\n",
        "\n",
        "    def __len__(self):\n",
        "        return len(self.encodings[\"input_ids\"])\n",
        "\n",
        "    def __getitem__(self, idx):\n",
        "        return {key: torch.tensor(val[idx]) for key, val in self.encodings.items()}\n",
        "\n",
        "\n",
        "test_df = pd.read_csv(\"./Aiffel_DLThon/data/original_data/test.csv\")\n",
        "test_texts = test_df[\"text\"].tolist()\n",
        "\n",
        "# Dataset & Dataloader\n",
        "test_dataset = PlainTextDataset(test_texts, tokenizer, 200)\n",
        "test_loader = DataLoader(test_dataset, batch_size=32, shuffle=False)\n",
        "\n",
        "import torch\n",
        "from torch.nn.functional import softmax\n",
        "\n",
        "model.eval()\n",
        "label4_probs = []\n",
        "\n",
        "with torch.no_grad():\n",
        "    for batch in test_loader:\n",
        "        batch = {k: v.to(model.device) for k, v in batch.items()}\n",
        "        outputs = model(**batch)\n",
        "        probs = softmax(outputs.logits, dim=-1)\n",
        "        label4_batch_probs = probs[:, 1].cpu().numpy()\n",
        "        label4_probs.extend(label4_batch_probs)\n",
        "\n",
        "import matplotlib.pyplot as plt\n",
        "import seaborn as sns\n",
        "\n",
        "plt.figure(figsize=(8, 4))\n",
        "sns.histplot(label4_probs, bins=30, kde=True)\n",
        "plt.title(\"Distribution of Label 4 Probabilities on Test Set\")\n",
        "plt.xlabel(\"Predicted Probability of Label 4\")\n",
        "plt.ylabel(\"Number of Samples\")\n",
        "plt.grid(True)\n",
        "plt.show()\n"
      ],
      "metadata": {
        "colab": {
          "base_uri": "https://localhost:8080/",
          "height": 410
        },
        "id": "a-_hdMBgLrmJ",
        "outputId": "0c64307e-d2db-4448-9319-95a90db7a288"
      },
      "id": "a-_hdMBgLrmJ",
      "execution_count": 31,
      "outputs": [
        {
          "output_type": "display_data",
          "data": {
            "text/plain": [
              "<Figure size 800x400 with 1 Axes>"
            ],
            "image/png": "[encoded data removed]"
          },
          "metadata": {}
        }
      ]
    },
    {
      "cell_type": "code",
      "source": [
        "from sklearn.metrics import accuracy_score, f1_score, classification_report\n",
        "from torch.utils.data import DataLoader\n",
        "from tqdm import tqdm\n",
        "import torch\n",
        "\n",
        "def evaluate_stage1(model, dataset, batch_size=32):\n",
        "    model.eval()\n",
        "    dataloader = DataLoader(dataset, batch_size=batch_size)\n",
        "    preds = []\n",
        "    labels = []\n",
        "\n",
        "    for batch in tqdm(dataloader, desc=\"Stage 1 Evaluation\"):\n",
        "        input_ids = batch[\"input_ids\"].to(model.device)\n",
        "        attention_mask = batch[\"attention_mask\"].to(model.device)\n",
        "        token_type_ids = batch[\"token_type_ids\"].to(model.device)\n",
        "        binary_labels = batch[\"binary_labels\"].to(model.device)\n",
        "\n",
        "        with torch.no_grad():\n",
        "            logits = model(\n",
        "                input_ids=input_ids,\n",
        "                attention_mask=attention_mask,\n",
        "                token_type_ids=token_type_ids\n",
        "            ).logits  # ✅ Stage 1 logits only\n",
        "\n",
        "        pred = torch.argmax(logits, dim=1)\n",
        "        preds.extend(pred.cpu().tolist())\n",
        "        labels.extend(binary_labels.cpu().tolist())\n",
        "\n",
        "    acc = accuracy_score(labels, preds)\n",
        "    f1 = f1_score(labels, preds, average='macro')\n",
        "\n",
        "    print(\"📊 Stage 1 Evaluation Results\")\n",
        "    print(f\"✅ Accuracy: {acc:.4f}\")\n",
        "    print(f\"✅ F1 Score (macro): {f1:.4f}\")\n",
        "    print(\"📋 Classification Report:\\n\", classification_report(labels, preds, digits=4))\n",
        "    return {\"accuracy\": acc, \"f1_macro\": f1}\n",
        "stage1_metrics = evaluate_stage1(two_stage_model, val_dataset)\n"
      ],
      "metadata": {
        "colab": {
          "base_uri": "https://localhost:8080/"
        },
        "id": "zHLW9LQAr-jv",
        "outputId": "e7d4479e-cde4-4988-a415-a53beda9a613"
      },
      "id": "zHLW9LQAr-jv",
      "execution_count": null,
      "outputs": [
        {
          "output_type": "stream",
          "name": "stderr",
          "text": [
            "Stage 1 Evaluation: 100%|██████████| 71/71 [00:16<00:00,  4.29it/s]"
          ]
        },
        {
          "output_type": "stream",
          "name": "stdout",
          "text": [
            "📊 Stage 1 Evaluation Results\n",
            "✅ Accuracy: 0.9982\n",
            "✅ F1 Score (macro): 0.9980\n",
            "📋 Classification Report:\n",
            "               precision    recall  f1-score   support\n",
            "\n",
            "           0     0.9987    0.9962    0.9975       790\n",
            "           1     0.9979    0.9993    0.9986      1454\n",
            "\n",
            "    accuracy                         0.9982      2244\n",
            "   macro avg     0.9983    0.9978    0.9980      2244\n",
            "weighted avg     0.9982    0.9982    0.9982      2244\n",
            "\n"
          ]
        },
        {
          "output_type": "stream",
          "name": "stderr",
          "text": [
            "\n"
          ]
        }
      ]
    },
    {
      "cell_type": "code",
      "source": [
        "from collections import Counter\n",
        "\n",
        "binary_preds = np.argmax(trainer.predict(val_dataset).predictions, axis=1)\n",
        "counter = Counter(binary_preds)\n",
        "print(\"✅ Stage 1 예측 분포:\", counter)"
      ],
      "metadata": {
        "colab": {
          "base_uri": "https://localhost:8080/",
          "height": 109
        },
        "id": "NSy6cP5_D2KP",
        "outputId": "d05d6cfc-cf60-4d00-8d21-b5f080c0c02b"
      },
      "id": "NSy6cP5_D2KP",
      "execution_count": null,
      "outputs": [
        {
          "output_type": "display_data",
          "data": {
            "text/plain": [
              "<IPython.core.display.HTML object>"
            ],
            "text/html": []
          },
          "metadata": {}
        },
        {
          "output_type": "stream",
          "name": "stdout",
          "text": [
            "✅ compute_metrics called\n",
            "🔍 type(pred.label_ids): <class 'tuple'>\n",
            "🔍 label_ids shape: (2244,)\n",
            "🔍 predictions shape: (2244, 2)\n",
            "✅ Stage 1 예측 분포: Counter({np.int64(1): 1456, np.int64(0): 788})\n"
          ]
        }
      ]
    },
    {
      "cell_type": "code",
      "source": [
        "stage2_df = train_df[train_df[\"label\"] != 4].copy()\n",
        "stage2_df = stage2_df.reset_index(drop=True)\n",
        "\n",
        "texts = stage2_df[\"clean_text\"].tolist()\n",
        "labels = stage2_df[\"label\"].tolist()  # label: 0~3\n",
        "\n",
        "encodings = tokenizer(texts, truncation=True, padding=True, max_length=128, return_tensors=\"pt\")\n",
        "class Stage2Dataset(Dataset):\n",
        "    def __init__(self, encodings, labels):\n",
        "        self.encodings = encodings\n",
        "        self.labels = labels\n",
        "\n",
        "    def __getitem__(self, idx):\n",
        "        item = {key: torch.tensor(val[idx]) for key, val in self.encodings.items()}\n",
        "        item[\"labels\"] = torch.tensor(self.labels[idx])\n",
        "        return item\n",
        "\n",
        "    def __len__(self):\n",
        "        return len(self.labels)\n",
        "from sklearn.model_selection import train_test_split\n",
        "\n",
        "train_texts, val_texts, train_labels, val_labels = train_test_split(\n",
        "    texts, labels, test_size=0.2, stratify=labels, random_state=42\n",
        ")\n",
        "\n",
        "train_encodings = tokenizer(train_texts, truncation=True, padding=True, max_length=128)\n",
        "val_encodings = tokenizer(val_texts, truncation=True, padding=True, max_length=128)\n",
        "train_dataset = Stage2Dataset(train_encodings, train_labels)\n",
        "val_dataset = Stage2Dataset(val_encodings, val_labels)\n",
        "\n",
        "from transformers import ElectraModel, ElectraPreTrainedModel\n",
        "import torch.nn as nn\n",
        "\n",
        "class ElectraStage2Classifier(ElectraPreTrainedModel):\n",
        "    def __init__(self, config):\n",
        "        super().__init__(config)\n",
        "        self.electra = ElectraModel(config)\n",
        "        self.dropout = nn.Dropout(config.hidden_dropout_prob)\n",
        "        self.classifier = nn.Linear(config.hidden_size, 4)  # 4-class\n",
        "\n",
        "        self.init_weights()\n",
        "\n",
        "    def forward(self, input_ids, attention_mask=None, token_type_ids=None, labels=None):\n",
        "        outputs = self.electra(\n",
        "            input_ids=input_ids,\n",
        "            attention_mask=attention_mask,\n",
        "            token_type_ids=token_type_ids\n",
        "        )\n",
        "        cls_output = self.dropout(outputs.last_hidden_state[:, 0, :])\n",
        "        logits = self.classifier(cls_output)\n",
        "\n",
        "        loss = None\n",
        "        if labels is not None:\n",
        "            loss_fn = nn.CrossEntropyLoss()\n",
        "            loss = loss_fn(logits, labels)\n",
        "\n",
        "        return SequenceClassifierOutput(\n",
        "            loss=loss,\n",
        "            logits=logits\n",
        "        )\n",
        "from transformers import TrainingArguments, Trainer\n",
        "\n",
        "training_args = TrainingArguments(\n",
        "    output_dir=\"./stage2_model\",\n",
        "    eval_strategy=\"epoch\",\n",
        "    save_strategy=\"epoch\",\n",
        "    per_device_train_batch_size=16,\n",
        "    per_device_eval_batch_size=16,\n",
        "    num_train_epochs=5,\n",
        "    logging_dir=\"./logs\",\n",
        "    logging_steps=50,\n",
        "    save_total_limit=2,\n",
        "    load_best_model_at_end=True,\n",
        "    metric_for_best_model=\"f1_macro\",\n",
        "    report_to=\"tensorboard\",\n",
        ")\n",
        "from sklearn.metrics import accuracy_score, f1_score\n",
        "\n",
        "def compute_metrics_stage2(pred):\n",
        "    labels = pred.label_ids\n",
        "    preds = pred.predictions.argmax(-1)\n",
        "    return {\n",
        "        \"accuracy\": accuracy_score(labels, preds),\n",
        "        \"f1_macro\": f1_score(labels, preds, average=\"macro\")\n",
        "    }\n",
        "from transformers import AutoConfig\n",
        "\n",
        "config = AutoConfig.from_pretrained(\"tunib/electra-ko-en-base\", num_labels=4)\n",
        "model = ElectraStage2Classifier.from_pretrained(\"tunib/electra-ko-en-base\", config=config)\n",
        "\n",
        "trainer = Trainer(\n",
        "    model=model,\n",
        "    args=training_args,\n",
        "    train_dataset=train_dataset,\n",
        "    eval_dataset=val_dataset,\n",
        "    compute_metrics=compute_metrics_stage2\n",
        ")\n",
        "\n",
        "trainer.train()\n"
      ],
      "metadata": {
        "colab": {
          "base_uri": "https://localhost:8080/",
          "height": 363
        },
        "id": "M6lodAgmEfBU",
        "outputId": "5b5909f0-9fae-452a-eba7-b2d287d4adb9"
      },
      "id": "M6lodAgmEfBU",
      "execution_count": null,
      "outputs": [
        {
          "output_type": "stream",
          "name": "stderr",
          "text": [
            "Some weights of ElectraStage2Classifier were not initialized from the model checkpoint at tunib/electra-ko-en-base and are newly initialized: ['classifier.bias', 'classifier.weight']\n",
            "You should probably TRAIN this model on a down-stream task to be able to use it for predictions and inference.\n"
          ]
        },
        {
          "output_type": "display_data",
          "data": {
            "text/plain": [
              "<IPython.core.display.HTML object>"
            ],
            "text/html": [
              "\n",
              "    <div>\n",
              "      \n",
              "      <progress value='990' max='990' style='width:300px; height:20px; vertical-align: middle;'></progress>\n",
              "      [990/990 07:52, Epoch 5/5]\n",
              "    </div>\n",
              "    <table border=\"1\" class=\"dataframe\">\n",
              "  <thead>\n",
              " <tr style=\"text-align: left;\">\n",
              "      <th>Epoch</th>\n",
              "      <th>Training Loss</th>\n",
              "      <th>Validation Loss</th>\n",
              "      <th>Accuracy</th>\n",
              "      <th>F1 Macro</th>\n",
              "    </tr>\n",
              "  </thead>\n",
              "  <tbody>\n",
              "    <tr>\n",
              "      <td>1</td>\n",
              "      <td>0.611600</td>\n",
              "      <td>0.424237</td>\n",
              "      <td>0.849367</td>\n",
              "      <td>0.851038</td>\n",
              "    </tr>\n",
              "    <tr>\n",
              "      <td>2</td>\n",
              "      <td>0.307900</td>\n",
              "      <td>0.409940</td>\n",
              "      <td>0.868354</td>\n",
              "      <td>0.869129</td>\n",
              "    </tr>\n",
              "    <tr>\n",
              "      <td>3</td>\n",
              "      <td>0.210300</td>\n",
              "      <td>0.496361</td>\n",
              "      <td>0.860759</td>\n",
              "      <td>0.861767</td>\n",
              "    </tr>\n",
              "    <tr>\n",
              "      <td>4</td>\n",
              "      <td>0.136600</td>\n",
              "      <td>0.577979</td>\n",
              "      <td>0.879747</td>\n",
              "      <td>0.879266</td>\n",
              "    </tr>\n",
              "    <tr>\n",
              "      <td>5</td>\n",
              "      <td>0.059300</td>\n",
              "      <td>0.562851</td>\n",
              "      <td>0.877215</td>\n",
              "      <td>0.877528</td>\n",
              "    </tr>\n",
              "  </tbody>\n",
              "</table><p>"
            ]
          },
          "metadata": {}
        },
        {
          "output_type": "execute_result",
          "data": {
            "text/plain": [
              "TrainOutput(global_step=990, training_loss=0.2893064183418197, metrics={'train_runtime': 472.8509, 'train_samples_per_second': 33.414, 'train_steps_per_second': 2.094, 'total_flos': 1032140851814400.0, 'train_loss': 0.2893064183418197, 'epoch': 5.0})"
            ]
          },
          "metadata": {},
          "execution_count": 26
        }
      ]
    },
    {
      "cell_type": "code",
      "source": [
        "from collections import Counter\n",
        "import matplotlib.pyplot as plt\n",
        "\n",
        "# 실제 사용한 label 리스트를 넣으세요\n",
        "# 예: labels = stage2_df[\"label\"].tolist()\n",
        "stage2_labels = labels  # ✅ ← 여기만 수정\n",
        "\n",
        "# 분포 확인\n",
        "label_counts = Counter(stage2_labels)\n",
        "\n",
        "print(\"📊 Stage 2 학습용 라벨 분포:\")\n",
        "for label, count in sorted(label_counts.items()):\n",
        "    print(f\"Label {label}: {count}\")\n",
        "\n",
        "# 시각화\n",
        "plt.bar(label_counts.keys(), label_counts.values())\n",
        "plt.title(\"Stage 2 Class Distribution\")\n",
        "plt.xlabel(\"Label\")\n",
        "plt.ylabel(\"Count\")\n",
        "plt.xticks([0, 1, 2, 3])\n",
        "plt.show()"
      ],
      "metadata": {
        "id": "Nw13wpHwFWYa",
        "outputId": "cb75c390-1c29-4dfa-f6f1-5970c2d97d57",
        "colab": {
          "base_uri": "https://localhost:8080/",
          "height": 564
        }
      },
      "id": "Nw13wpHwFWYa",
      "execution_count": null,
      "outputs": [
        {
          "output_type": "stream",
          "name": "stdout",
          "text": [
            "📊 Stage 2 학습용 라벨 분포:\n",
            "Label 0: 896\n",
            "Label 1: 981\n",
            "Label 2: 979\n",
            "Label 3: 1094\n"
          ]
        },
        {
          "output_type": "display_data",
          "data": {
            "text/plain": [
              "<Figure size 640x480 with 1 Axes>"
            ],
            "image/png": "[encoded data removed]"
          },
          "metadata": {}
        }
      ]
    },
    {
      "cell_type": "markdown",
      "id": "e11778cb",
      "metadata": {
        "id": "e11778cb"
      },
      "source": [
        "## 테스트"
      ]
    },
    {
      "cell_type": "code",
      "source": [
        "from tqdm import tqdm\n",
        "\n",
        "batch_size = 32  # 또는 16으로 줄일 수 있음\n",
        "two_stage_model.eval()\n",
        "model.eval()\n",
        "final_preds = []\n",
        "test_df = pd.read_csv(\"./Aiffel_DLThon/data/original_data/test.csv\")\n",
        "test_texts = test_df[\"text\"].tolist()\n",
        "\n",
        "for i in tqdm(range(0, len(test_texts), batch_size), desc=\"Stage 1 + Stage 2 추론\"):\n",
        "    batch_texts = test_texts[i:i + batch_size]\n",
        "\n",
        "    # 인코딩 + device 이동\n",
        "    batch_encodings = tokenizer(\n",
        "        batch_texts,\n",
        "        truncation=True,\n",
        "        padding=True,\n",
        "        max_length=128,\n",
        "        return_tensors=\"pt\"\n",
        "    )\n",
        "    batch_encodings = {k: v.to(two_stage_model.device) for k, v in batch_encodings.items()}\n",
        "\n",
        "    with torch.no_grad():\n",
        "        # Stage 1 예측\n",
        "        s1_logits = two_stage_model(**batch_encodings).logits\n",
        "        s1_preds = torch.argmax(s1_logits, dim=1)\n",
        "\n",
        "        for j, s1 in enumerate(s1_preds):\n",
        "            if s1 == 1:\n",
        "                final_preds.append(4)\n",
        "            else:\n",
        "                # Stage 2 예측\n",
        "                single_input = {\n",
        "                    key: val[j].unsqueeze(0).to(model.device)\n",
        "                    for key, val in batch_encodings.items()\n",
        "                }\n",
        "                with torch.no_grad():\n",
        "                    s2_logits = model(**single_input).logits\n",
        "                    s2_pred = torch.argmax(s2_logits, dim=1).item()\n",
        "                    final_preds.append(s2_pred)"
      ],
      "metadata": {
        "colab": {
          "base_uri": "https://localhost:8080/"
        },
        "id": "7XABiwcuL0gM",
        "outputId": "b413fbc8-5646-48b8-b470-b85b0b2f8471"
      },
      "id": "7XABiwcuL0gM",
      "execution_count": null,
      "outputs": [
        {
          "output_type": "stream",
          "name": "stderr",
          "text": [
            "Stage 1 + Stage 2 추론: 100%|██████████| 16/16 [00:13<00:00,  1.15it/s]\n"
          ]
        }
      ]
    },
    {
      "cell_type": "code",
      "source": [
        "from collections import Counter\n",
        "\n",
        "print(\"📊 예측 결과 분포:\")\n",
        "print(Counter(final_preds))"
      ],
      "metadata": {
        "colab": {
          "base_uri": "https://localhost:8080/"
        },
        "id": "3FHHhpJywyZR",
        "outputId": "70e44fb6-e041-4326-c662-fa81220e3383"
      },
      "id": "3FHHhpJywyZR",
      "execution_count": null,
      "outputs": [
        {
          "output_type": "stream",
          "name": "stdout",
          "text": [
            "📊 예측 결과 분포:\n",
            "Counter({3: 156, 1: 121, 2: 119, 0: 94, 4: 10})\n"
          ]
        }
      ]
    },
    {
      "cell_type": "code",
      "source": [
        "for i in range(5):\n",
        "    print(f\"문장: {test_texts[i]}\")\n",
        "    print(f\"예측 라벨: {final_preds[i]}\")\n",
        "    print(\"-\" * 30)"
      ],
      "metadata": {
        "colab": {
          "base_uri": "https://localhost:8080/"
        },
        "id": "-kEeVRMzwyO7",
        "outputId": "0f15c7cc-c5d6-46d7-c667-e2092f28c2ab"
      },
      "id": "-kEeVRMzwyO7",
      "execution_count": null,
      "outputs": [
        {
          "output_type": "stream",
          "name": "stdout",
          "text": [
            "문장: 아가씨 담배한갑주소 네 4500원입니다 어 네 지갑어디갔지 에이 버스에서 잃어버렸나보네 그럼 취소할까요 아가씨 내 여기단골이니 담에 갖다줄께 저도 알바생이라 외상안됩니다 아따 누가 떼먹는다고 그러나 갖다준다고 안됩니다 자꾸이럼 경찰불러요 아가씨 담배피는교 그건 왜 물으세요 그람 아가씨 담배 한대만 빌립시다 내 지금 지갑도 잃어버리고 기분이 그래서 그러니 여기요  아따 주는김에 한개더 주면 되겠네\n",
            "예측 라벨: 1\n",
            "------------------------------\n",
            "문장: 우리팀에서 다른팀으로 갈 사람 없나? 그럼 영지씨가 가는건 어때?  네? 제가요? 그렇지? 2달만 파견 잘 갔다오면 승진이야. 네? 저는 별로 가고 싶지 않습니다. 여기 있는 모든사람도 가기 싫어해. 그러니까 막내인 영지씨가 가는게 맞지 정말 죄송합니다. 저는 못갑니다. 장난해? 모두를 위해 영지씨가 희생하는게 싫어? 네. 부당한 방법으로 가는 것 같습니다. 영지씨 안가면 회사생활 오래 못할 것 같은데 그래도 안갈거야? 안가면 지옥일텐데. 그래도 이 방법은 아닌 것 같습니다. 죄송합니다.\n",
            "예측 라벨: 2\n",
            "------------------------------\n",
            "문장: 너 오늘 그게 뭐야 네 제가 뭘 잘못했나요.? 제대로 좀 하지 네 똑바로 좀 하지 행실이 맘에 안들어 네 실천할께요 옆에 동기들 좀 본받으란 말야 어? 네 알겠습니다 그래 똑바로해 노럭할께요\n",
            "예측 라벨: 2\n",
            "------------------------------\n",
            "문장: 이거 들어바 와 이 노래 진짜 좋다 그치 요즘 이 것만 들어 진짜 너무 좋다 내가 요즘 듣는 것도 들어봐 음 난 좀 별론데 좋을 줄 알았는데 아쉽네 내 취향은 아닌 듯 배고프다 밥이나 먹으러 가자 그래\n",
            "예측 라벨: 3\n",
            "------------------------------\n",
            "문장: 아무튼 앞으로 니가 내 와이파이야. .응 와이파이 온. 켰어. 반말? 주인님이라고도 말해야지? .켰습니다. 주인님. 오냐. 앞으로도 잘부탁한다 와이파이. 넵. 이렇게만 해? 알겠지? 응.\n",
            "예측 라벨: 4\n",
            "------------------------------\n"
          ]
        }
      ]
    },
    {
      "cell_type": "code",
      "execution_count": null,
      "id": "04bddf26",
      "metadata": {
        "colab": {
          "base_uri": "https://localhost:8080/"
        },
        "id": "04bddf26",
        "outputId": "dd8b6ca2-8f42-4a65-eb52-880873e3be14"
      },
      "outputs": [
        {
          "output_type": "stream",
          "name": "stdout",
          "text": [
            "[2025-05-05 02:14:55] Experiment complete.\n"
          ]
        }
      ],
      "source": [
        "save_submission(preds, \"./Aiffel_DLThon/data/original_data/submission.csv\", './submission.csv')\n",
        "log_message(\"Experiment complete.\", '.')"
      ]
    },
    {
      "cell_type": "code",
      "source": [
        "import torch\n",
        "import pandas as pd\n",
        "from transformers import AutoTokenizer, ElectraPreTrainedModel, ElectraModel\n",
        "from transformers.modeling_outputs import SequenceClassifierOutput\n",
        "from tqdm import tqdm\n",
        "\n",
        "# ============================\n",
        "# ✅ 모델 정의 (통합 모델)\n",
        "# ============================\n",
        "class ElectraTwoStageModel(ElectraPreTrainedModel):\n",
        "    def __init__(self, config):\n",
        "        super().__init__(config)\n",
        "        self.electra = ElectraModel(config)\n",
        "        self.dropout = torch.nn.Dropout(config.hidden_dropout_prob)\n",
        "        self.stage1_classifier = torch.nn.Linear(config.hidden_size, 2)\n",
        "        self.stage2_classifier = torch.nn.Linear(config.hidden_size, 4)\n",
        "        self.init_weights()\n",
        "\n",
        "    def forward(self, input_ids, attention_mask=None, token_type_ids=None,\n",
        "                binary_labels=None, multiclass_labels=None):\n",
        "        outputs = self.electra(input_ids=input_ids, attention_mask=attention_mask, token_type_ids=token_type_ids)\n",
        "        cls_output = self.dropout(outputs.last_hidden_state[:, 0, :])\n",
        "\n",
        "        stage1_logits = self.stage1_classifier(cls_output)\n",
        "        stage2_logits = self.stage2_classifier(cls_output)\n",
        "\n",
        "        loss = None\n",
        "        if binary_labels is not None and multiclass_labels is not None:\n",
        "            loss_fct = torch.nn.CrossEntropyLoss()\n",
        "            loss1 = loss_fct(stage1_logits, binary_labels)\n",
        "            mask = (binary_labels == 0)\n",
        "            if mask.sum() > 0:\n",
        "                loss2 = loss_fct(stage2_logits[mask], multiclass_labels[mask])\n",
        "                loss = loss1 + loss2\n",
        "            else:\n",
        "                loss = loss1\n",
        "\n",
        "        return SequenceClassifierOutput(loss=loss, logits=stage1_logits)\n",
        "\n",
        "\n",
        "# ============================\n",
        "# ✅ 모델 및 토크나이저 로드\n",
        "# ============================\n",
        "from transformers import AutoConfig\n",
        "MODEL_NAME = \"tunib/electra-ko-en-base\"\n",
        "MODEL_PATH = \"tunib/electra-ko-en-base\"  # 학습된 모델이 저장된 디렉토리\n",
        "\n",
        "tokenizer = AutoTokenizer.from_pretrained(MODEL_NAME)\n",
        "config = AutoConfig.from_pretrained(MODEL_NAME)\n",
        "model = ElectraTwoStageModel.from_pretrained(MODEL_PATH, config=config).to(\"cuda\")\n",
        "model.eval()\n",
        "\n",
        "# ============================\n",
        "# ✅ 테스트 데이터 로드\n",
        "# ============================\n",
        "test_df = pd.read_csv(\"./Aiffel_DLThon/data/original_data/test.csv\")\n",
        "test_texts = test_df[\"text\"].tolist()\n",
        "\n",
        "# ============================\n",
        "# ✅ 예측 수행\n",
        "# ============================\n",
        "final_preds = []\n",
        "\n",
        "for text in tqdm(test_texts):\n",
        "    inputs = tokenizer(text, return_tensors=\"pt\", truncation=True, padding=True, max_length=128).to(model.device)\n",
        "\n",
        "    with torch.no_grad():\n",
        "        # Stage 1 예측\n",
        "        stage1_logits = model(**inputs).logits\n",
        "        stage1_pred = torch.argmax(stage1_logits, dim=1).item()\n",
        "\n",
        "        if stage1_pred == 1:\n",
        "            final_preds.append(4)\n",
        "        else:\n",
        "            # Stage 2 예측\n",
        "            cls_output = model.dropout(model.electra(**inputs).last_hidden_state[:, 0, :])\n",
        "            stage2_logits = model.stage2_classifier(cls_output)\n",
        "            stage2_pred = torch.argmax(stage2_logits, dim=1).item()\n",
        "            final_preds.append(stage2_pred)\n",
        "\n",
        "# ============================\n",
        "# ✅ 제출 파일 저장\n",
        "# ============================\n",
        "submission = pd.DataFrame({\n",
        "    \"idx\": test_df[\"idx\"],\n",
        "    \"label\": final_preds\n",
        "})\n",
        "submission.to_csv(\"submission.csv\", index=False)\n",
        "print(\"\\n✅ submission.csv 저장 완료!\")\n"
      ],
      "metadata": {
        "colab": {
          "base_uri": "https://localhost:8080/"
        },
        "id": "QxxizLPgPqFk",
        "outputId": "9542b298-c22f-4934-d663-264679e8e982"
      },
      "id": "QxxizLPgPqFk",
      "execution_count": null,
      "outputs": [
        {
          "output_type": "stream",
          "name": "stderr",
          "text": [
            "Some weights of ElectraTwoStageModel were not initialized from the model checkpoint at tunib/electra-ko-en-base and are newly initialized: ['stage1_classifier.bias', 'stage1_classifier.weight', 'stage2_classifier.bias', 'stage2_classifier.weight']\n",
            "You should probably TRAIN this model on a down-stream task to be able to use it for predictions and inference.\n",
            "100%|██████████| 500/500 [00:12<00:00, 38.48it/s]"
          ]
        },
        {
          "output_type": "stream",
          "name": "stdout",
          "text": [
            "\n",
            "✅ submission.csv 저장 완료!\n"
          ]
        },
        {
          "output_type": "stream",
          "name": "stderr",
          "text": [
            "\n"
          ]
        }
      ]
    },
    {
      "cell_type": "code",
      "source": [
        "def log_target_distribution(df: pd.DataFrame, log_dir: str):\n",
        "    \"\"\"\n",
        "    주어진 DataFrame에서 'target' 컬럼의 클래스 분포를 로그 파일과 콘솔에 출력합니다.\n",
        "    \"\"\"\n",
        "    if \"label\" not in df.columns:\n",
        "        log_message(\"❌ 'target' 컬럼이 데이터프레임에 없습니다.\", log_dir)\n",
        "        return\n",
        "\n",
        "    counts = df[\"label\"].value_counts().sort_index()\n",
        "    log_message(\"📊 Target 클래스 분포:\", log_dir)\n",
        "    for label, count in counts.items():\n",
        "        log_message(f\"Label {label}: {count}\", log_dir)"
      ],
      "metadata": {
        "id": "npymFbF7QUDr"
      },
      "id": "npymFbF7QUDr",
      "execution_count": null,
      "outputs": []
    },
    {
      "cell_type": "code",
      "execution_count": null,
      "id": "4fe38c92",
      "metadata": {
        "scrolled": true,
        "colab": {
          "base_uri": "https://localhost:8080/"
        },
        "id": "4fe38c92",
        "outputId": "e38d1358-a84e-435b-e8a0-5cba445eacc8"
      },
      "outputs": [
        {
          "output_type": "stream",
          "name": "stdout",
          "text": [
            "[2025-05-05 02:23:39] 📊 Target 클래스 분포:\n",
            "[2025-05-05 02:23:39] Label 2: 423\n",
            "[2025-05-05 02:23:39] Label 4: 77\n"
          ]
        }
      ],
      "source": [
        "# 파일 로딩\n",
        "df = pd.read_csv('/content/submission.csv')\n",
        "log_target_distribution(df, '.')"
      ]
    },
    {
      "cell_type": "code",
      "execution_count": null,
      "id": "c2388cde",
      "metadata": {
        "id": "c2388cde"
      },
      "outputs": [],
      "source": []
    }
  ],
  "metadata": {
    "kernelspec": {
      "display_name": "Python 3",
      "name": "python3"
    },
    "language_info": {
      "codemirror_mode": {
        "name": "ipython",
        "version": 3
      },
      "file_extension": ".py",
      "mimetype": "text/x-python",
      "name": "python",
      "nbconvert_exporter": "python",
      "pygments_lexer": "ipython3",
      "version": "3.9.7"
    },
    "colab": {
      "provenance": [],
      "gpuType": "T4"
    },
    "accelerator": "GPU",
    "widgets": {
      "application/vnd.jupyter.widget-state+json": {
        "00422f734ebf41b187ed013326e03d4a": {
          "model_module": "@jupyter-widgets/controls",
          "model_name": "HBoxModel",
          "model_module_version": "1.5.0",
          "state": {
            "_dom_classes": [],
            "_model_module": "@jupyter-widgets/controls",
            "_model_module_version": "1.5.0",
            "_model_name": "HBoxModel",
            "_view_count": null,
            "_view_module": "@jupyter-widgets/controls",
            "_view_module_version": "1.5.0",
            "_view_name": "HBoxView",
            "box_style": "",
            "children": [
              "IPY_MODEL_c7163614d63744a29e246befe4a830b3",
              "IPY_MODEL_dcafc804770d42cfbb8359fd2ff55f0d",
              "IPY_MODEL_ed7e28a2abdb4180b97eefa40f99074b"
            ],
            "layout": "IPY_MODEL_2b2a3b5f6ba149f5bbc62334ea16b1d2"
          }
        },
        "c7163614d63744a29e246befe4a830b3": {
          "model_module": "@jupyter-widgets/controls",
          "model_name": "HTMLModel",
          "model_module_version": "1.5.0",
          "state": {
            "_dom_classes": [],
            "_model_module": "@jupyter-widgets/controls",
            "_model_module_version": "1.5.0",
            "_model_name": "HTMLModel",
            "_view_count": null,
            "_view_module": "@jupyter-widgets/controls",
            "_view_module_version": "1.5.0",
            "_view_name": "HTMLView",
            "description": "",
            "description_tooltip": null,
            "layout": "IPY_MODEL_cbe46cbf277f41e0bd3074df5adc77a1",
            "placeholder": "​",
            "style": "IPY_MODEL_706ec34701794a5cbea669521c2dd0a8",
            "value": "config.json: 100%"
          }
        },
        "dcafc804770d42cfbb8359fd2ff55f0d": {
          "model_module": "@jupyter-widgets/controls",
          "model_name": "FloatProgressModel",
          "model_module_version": "1.5.0",
          "state": {
            "_dom_classes": [],
            "_model_module": "@jupyter-widgets/controls",
            "_model_module_version": "1.5.0",
            "_model_name": "FloatProgressModel",
            "_view_count": null,
            "_view_module": "@jupyter-widgets/controls",
            "_view_module_version": "1.5.0",
            "_view_name": "ProgressView",
            "bar_style": "success",
            "description": "",
            "description_tooltip": null,
            "layout": "IPY_MODEL_a6a7711367234a6f9c39b5c881de2c0a",
            "max": 459,
            "min": 0,
            "orientation": "horizontal",
            "style": "IPY_MODEL_cc997fc61ea642069e98409b764a4302",
            "value": 459
          }
        },
        "ed7e28a2abdb4180b97eefa40f99074b": {
          "model_module": "@jupyter-widgets/controls",
          "model_name": "HTMLModel",
          "model_module_version": "1.5.0",
          "state": {
            "_dom_classes": [],
            "_model_module": "@jupyter-widgets/controls",
            "_model_module_version": "1.5.0",
            "_model_name": "HTMLModel",
            "_view_count": null,
            "_view_module": "@jupyter-widgets/controls",
            "_view_module_version": "1.5.0",
            "_view_name": "HTMLView",
            "description": "",
            "description_tooltip": null,
            "layout": "IPY_MODEL_48426a6e456f4d8b92a68a9a8cb51030",
            "placeholder": "​",
            "style": "IPY_MODEL_17a3a485bbad4c2c828a35b56e337798",
            "value": " 459/459 [00:00&lt;00:00, 50.1kB/s]"
          }
        },
        "2b2a3b5f6ba149f5bbc62334ea16b1d2": {
          "model_module": "@jupyter-widgets/base",
          "model_name": "LayoutModel",
          "model_module_version": "1.2.0",
          "state": {
            "_model_module": "@jupyter-widgets/base",
            "_model_module_version": "1.2.0",
            "_model_name": "LayoutModel",
            "_view_count": null,
            "_view_module": "@jupyter-widgets/base",
            "_view_module_version": "1.2.0",
            "_view_name": "LayoutView",
            "align_content": null,
            "align_items": null,
            "align_self": null,
            "border": null,
            "bottom": null,
            "display": null,
            "flex": null,
            "flex_flow": null,
            "grid_area": null,
            "grid_auto_columns": null,
            "grid_auto_flow": null,
            "grid_auto_rows": null,
            "grid_column": null,
            "grid_gap": null,
            "grid_row": null,
            "grid_template_areas": null,
            "grid_template_columns": null,
            "grid_template_rows": null,
            "height": null,
            "justify_content": null,
            "justify_items": null,
            "left": null,
            "margin": null,
            "max_height": null,
            "max_width": null,
            "min_height": null,
            "min_width": null,
            "object_fit": null,
            "object_position": null,
            "order": null,
            "overflow": null,
            "overflow_x": null,
            "overflow_y": null,
            "padding": null,
            "right": null,
            "top": null,
            "visibility": null,
            "width": null
          }
        },
        "cbe46cbf277f41e0bd3074df5adc77a1": {
          "model_module": "@jupyter-widgets/base",
          "model_name": "LayoutModel",
          "model_module_version": "1.2.0",
          "state": {
            "_model_module": "@jupyter-widgets/base",
            "_model_module_version": "1.2.0",
            "_model_name": "LayoutModel",
            "_view_count": null,
            "_view_module": "@jupyter-widgets/base",
            "_view_module_version": "1.2.0",
            "_view_name": "LayoutView",
            "align_content": null,
            "align_items": null,
            "align_self": null,
            "border": null,
            "bottom": null,
            "display": null,
            "flex": null,
            "flex_flow": null,
            "grid_area": null,
            "grid_auto_columns": null,
            "grid_auto_flow": null,
            "grid_auto_rows": null,
            "grid_column": null,
            "grid_gap": null,
            "grid_row": null,
            "grid_template_areas": null,
            "grid_template_columns": null,
            "grid_template_rows": null,
            "height": null,
            "justify_content": null,
            "justify_items": null,
            "left": null,
            "margin": null,
            "max_height": null,
            "max_width": null,
            "min_height": null,
            "min_width": null,
            "object_fit": null,
            "object_position": null,
            "order": null,
            "overflow": null,
            "overflow_x": null,
            "overflow_y": null,
            "padding": null,
            "right": null,
            "top": null,
            "visibility": null,
            "width": null
          }
        },
        "706ec34701794a5cbea669521c2dd0a8": {
          "model_module": "@jupyter-widgets/controls",
          "model_name": "DescriptionStyleModel",
          "model_module_version": "1.5.0",
          "state": {
            "_model_module": "@jupyter-widgets/controls",
            "_model_module_version": "1.5.0",
            "_model_name": "DescriptionStyleModel",
            "_view_count": null,
            "_view_module": "@jupyter-widgets/base",
            "_view_module_version": "1.2.0",
            "_view_name": "StyleView",
            "description_width": ""
          }
        },
        "a6a7711367234a6f9c39b5c881de2c0a": {
          "model_module": "@jupyter-widgets/base",
          "model_name": "LayoutModel",
          "model_module_version": "1.2.0",
          "state": {
            "_model_module": "@jupyter-widgets/base",
            "_model_module_version": "1.2.0",
            "_model_name": "LayoutModel",
            "_view_count": null,
            "_view_module": "@jupyter-widgets/base",
            "_view_module_version": "1.2.0",
            "_view_name": "LayoutView",
            "align_content": null,
            "align_items": null,
            "align_self": null,
            "border": null,
            "bottom": null,
            "display": null,
            "flex": null,
            "flex_flow": null,
            "grid_area": null,
            "grid_auto_columns": null,
            "grid_auto_flow": null,
            "grid_auto_rows": null,
            "grid_column": null,
            "grid_gap": null,
            "grid_row": null,
            "grid_template_areas": null,
            "grid_template_columns": null,
            "grid_template_rows": null,
            "height": null,
            "justify_content": null,
            "justify_items": null,
            "left": null,
            "margin": null,
            "max_height": null,
            "max_width": null,
            "min_height": null,
            "min_width": null,
            "object_fit": null,
            "object_position": null,
            "order": null,
            "overflow": null,
            "overflow_x": null,
            "overflow_y": null,
            "padding": null,
            "right": null,
            "top": null,
            "visibility": null,
            "width": null
          }
        },
        "cc997fc61ea642069e98409b764a4302": {
          "model_module": "@jupyter-widgets/controls",
          "model_name": "ProgressStyleModel",
          "model_module_version": "1.5.0",
          "state": {
            "_model_module": "@jupyter-widgets/controls",
            "_model_module_version": "1.5.0",
            "_model_name": "ProgressStyleModel",
            "_view_count": null,
            "_view_module": "@jupyter-widgets/base",
            "_view_module_version": "1.2.0",
            "_view_name": "StyleView",
            "bar_color": null,
            "description_width": ""
          }
        },
        "48426a6e456f4d8b92a68a9a8cb51030": {
          "model_module": "@jupyter-widgets/base",
          "model_name": "LayoutModel",
          "model_module_version": "1.2.0",
          "state": {
            "_model_module": "@jupyter-widgets/base",
            "_model_module_version": "1.2.0",
            "_model_name": "LayoutModel",
            "_view_count": null,
            "_view_module": "@jupyter-widgets/base",
            "_view_module_version": "1.2.0",
            "_view_name": "LayoutView",
            "align_content": null,
            "align_items": null,
            "align_self": null,
            "border": null,
            "bottom": null,
            "display": null,
            "flex": null,
            "flex_flow": null,
            "grid_area": null,
            "grid_auto_columns": null,
            "grid_auto_flow": null,
            "grid_auto_rows": null,
            "grid_column": null,
            "grid_gap": null,
            "grid_row": null,
            "grid_template_areas": null,
            "grid_template_columns": null,
            "grid_template_rows": null,
            "height": null,
            "justify_content": null,
            "justify_items": null,
            "left": null,
            "margin": null,
            "max_height": null,
            "max_width": null,
            "min_height": null,
            "min_width": null,
            "object_fit": null,
            "object_position": null,
            "order": null,
            "overflow": null,
            "overflow_x": null,
            "overflow_y": null,
            "padding": null,
            "right": null,
            "top": null,
            "visibility": null,
            "width": null
          }
        },
        "17a3a485bbad4c2c828a35b56e337798": {
          "model_module": "@jupyter-widgets/controls",
          "model_name": "DescriptionStyleModel",
          "model_module_version": "1.5.0",
          "state": {
            "_model_module": "@jupyter-widgets/controls",
            "_model_module_version": "1.5.0",
            "_model_name": "DescriptionStyleModel",
            "_view_count": null,
            "_view_module": "@jupyter-widgets/base",
            "_view_module_version": "1.2.0",
            "_view_name": "StyleView",
            "description_width": ""
          }
        }
      }
    }
  },
  "nbformat": 4,
  "nbformat_minor": 5
}