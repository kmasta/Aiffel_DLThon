{
 "cells": [
  {
   "cell_type": "markdown",
   "id": "0f818348",
   "metadata": {},
   "source": [
    "# Baseline Code"
   ]
  },
  {
   "cell_type": "markdown",
   "id": "52fb4a05",
   "metadata": {},
   "source": [
    "## 필요한 라이브러리 임포트"
   ]
  },
  {
   "cell_type": "code",
   "execution_count": 1,
   "id": "4b2223cd",
   "metadata": {},
   "outputs": [],
   "source": [
    "import yaml\n",
    "import pandas as pd\n",
    "from transformers import AutoTokenizer, AutoModelForSequenceClassification, Trainer, TrainingArguments, EarlyStoppingCallback\n",
    "from sklearn.metrics import f1_score, accuracy_score\n",
    "from torch.utils.data import Dataset\n",
    "import torch\n",
    "import os\n",
    "\n",
    "from callback.logger import log_message, log_target_distribution, LoggingCallback\n",
    "from callback.early_stopping import EarlyStopping\n",
    "from callback.checkpoint import save_model\n",
    "from callback.save_results import save_submission"
   ]
  },
  {
   "cell_type": "markdown",
   "id": "b0c79373",
   "metadata": {},
   "source": [
    "## 모델 정보 불러오기"
   ]
  },
  {
   "cell_type": "code",
   "execution_count": 2,
   "id": "afeb0dbd",
   "metadata": {},
   "outputs": [
    {
     "name": "stdout",
     "output_type": "stream",
     "text": [
      "[2025-05-02 03:44:42] Running experiment: kcbert_exp1\n"
     ]
    }
   ],
   "source": [
    "# Load model name\n",
    "with open(\"./config/model_name.yaml\", \"r\") as f:\n",
    "    model_name_config = yaml.safe_load(f)\n",
    "model_key = model_name_config[\"model_name\"]\n",
    "\n",
    "# Load full config for that model\n",
    "with open(f\"./config/{model_key}.yaml\", \"r\") as f:\n",
    "    config = yaml.safe_load(f)\n",
    "\n",
    "log_message(f\"Running experiment: {config['experiment_name']}\", config[\"log_dir\"])"
   ]
  },
  {
   "cell_type": "markdown",
   "id": "1b9ee39d",
   "metadata": {},
   "source": [
    "## 토크나이저, 모델 구현"
   ]
  },
  {
   "cell_type": "code",
   "execution_count": 3,
   "id": "7d0624bf",
   "metadata": {},
   "outputs": [
    {
     "data": {
      "application/vnd.jupyter.widget-view+json": {
       "model_id": "db3d00515bc84647b7d64a67e5ae7ae2",
       "version_major": 2,
       "version_minor": 0
      },
      "text/plain": [
       "Downloading:   0%|          | 0.00/49.0 [00:00<?, ?B/s]"
      ]
     },
     "metadata": {},
     "output_type": "display_data"
    },
    {
     "data": {
      "application/vnd.jupyter.widget-view+json": {
       "model_id": "54980f17612a4b0c9181be5f2eef6b8d",
       "version_major": 2,
       "version_minor": 0
      },
      "text/plain": [
       "Downloading:   0%|          | 0.00/619 [00:00<?, ?B/s]"
      ]
     },
     "metadata": {},
     "output_type": "display_data"
    },
    {
     "data": {
      "application/vnd.jupyter.widget-view+json": {
       "model_id": "eed2f16ed1bc4ed7a2125e616dfbd69c",
       "version_major": 2,
       "version_minor": 0
      },
      "text/plain": [
       "Downloading:   0%|          | 0.00/244k [00:00<?, ?B/s]"
      ]
     },
     "metadata": {},
     "output_type": "display_data"
    },
    {
     "data": {
      "application/vnd.jupyter.widget-view+json": {
       "model_id": "2976c36befb24709a823ccf03458524e",
       "version_major": 2,
       "version_minor": 0
      },
      "text/plain": [
       "Downloading:   0%|          | 0.00/418M [00:00<?, ?B/s]"
      ]
     },
     "metadata": {},
     "output_type": "display_data"
    },
    {
     "name": "stderr",
     "output_type": "stream",
     "text": [
      "Some weights of the model checkpoint at beomi/kcbert-base were not used when initializing BertForSequenceClassification: ['cls.predictions.bias', 'cls.predictions.transform.LayerNorm.weight', 'cls.seq_relationship.weight', 'cls.predictions.decoder.weight', 'cls.seq_relationship.bias', 'cls.predictions.transform.LayerNorm.bias', 'cls.predictions.transform.dense.weight', 'cls.predictions.decoder.bias', 'cls.predictions.transform.dense.bias']\n",
      "- This IS expected if you are initializing BertForSequenceClassification from the checkpoint of a model trained on another task or with another architecture (e.g. initializing a BertForSequenceClassification model from a BertForPreTraining model).\n",
      "- This IS NOT expected if you are initializing BertForSequenceClassification from the checkpoint of a model that you expect to be exactly identical (initializing a BertForSequenceClassification model from a BertForSequenceClassification model).\n",
      "Some weights of BertForSequenceClassification were not initialized from the model checkpoint at beomi/kcbert-base and are newly initialized: ['classifier.bias', 'classifier.weight']\n",
      "You should probably TRAIN this model on a down-stream task to be able to use it for predictions and inference.\n"
     ]
    }
   ],
   "source": [
    "tokenizer = AutoTokenizer.from_pretrained(config[\"tokenizer_name\"])\n",
    "model = AutoModelForSequenceClassification.from_pretrained(\n",
    "    config[\"pretrained_model_name\"],\n",
    "    num_labels=config[\"num_labels\"]\n",
    ")"
   ]
  },
  {
   "cell_type": "markdown",
   "id": "5e23dcd3",
   "metadata": {},
   "source": [
    "## 커스텀 데이터셋 클래스(토크나이징)"
   ]
  },
  {
   "cell_type": "code",
   "execution_count": 4,
   "id": "ec20435d",
   "metadata": {},
   "outputs": [],
   "source": [
    "class ChatDataset(Dataset):\n",
    "    def __init__(self, texts, labels, tokenizer, max_len):\n",
    "        self.encodings = tokenizer(texts, padding='max_length', truncation=True,\n",
    "                                   max_length=max_len, return_tensors=\"pt\")\n",
    "        self.labels = labels\n",
    "\n",
    "    def __len__(self):\n",
    "        return len(self.labels)\n",
    "\n",
    "    def __getitem__(self, idx):\n",
    "        item = {key: val[idx] for key, val in self.encodings.items()}\n",
    "        item[\"labels\"] = torch.tensor(self.labels[idx])\n",
    "        return item"
   ]
  },
  {
   "cell_type": "markdown",
   "id": "0b21bd8a",
   "metadata": {},
   "source": [
    "## 데이터 불러오기"
   ]
  },
  {
   "cell_type": "code",
   "execution_count": 5,
   "id": "8473bc35",
   "metadata": {},
   "outputs": [],
   "source": [
    "train_df = pd.read_csv(config[\"train_file\"])\n",
    "texts = train_df[\"clean_text\"].tolist()\n",
    "labels = train_df[\"label\"].tolist()\n",
    "\n",
    "dataset = ChatDataset(texts, labels, tokenizer, config[\"max_length\"])"
   ]
  },
  {
   "cell_type": "code",
   "execution_count": 6,
   "id": "a4ed5d5e",
   "metadata": {},
   "outputs": [],
   "source": [
    "from sklearn.model_selection import train_test_split\n",
    "\n",
    "train_texts, val_texts, train_labels, val_labels = train_test_split(\n",
    "    texts, labels, test_size=0.2, stratify=labels, random_state=42\n",
    ")\n",
    "\n",
    "train_dataset = ChatDataset(train_texts, train_labels, tokenizer, config[\"max_length\"])\n",
    "val_dataset = ChatDataset(val_texts, val_labels, tokenizer, config[\"max_length\"])"
   ]
  },
  {
   "cell_type": "code",
   "execution_count": 7,
   "id": "0a417d0d",
   "metadata": {
    "scrolled": true
   },
   "outputs": [
    {
     "name": "stdout",
     "output_type": "stream",
     "text": [
      "📊 train label 클래스 분포:\n",
      "0     717\n",
      "1     785\n",
      "2     783\n",
      "3     875\n",
      "4    1388\n",
      "dtype: int64\n"
     ]
    }
   ],
   "source": [
    "label_counts = pd.Series(train_labels).value_counts().sort_index()\n",
    "\n",
    "print(\"📊 train label 클래스 분포:\")\n",
    "print(label_counts)"
   ]
  },
  {
   "cell_type": "code",
   "execution_count": 8,
   "id": "f8da37cd",
   "metadata": {},
   "outputs": [
    {
     "name": "stdout",
     "output_type": "stream",
     "text": [
      "📊 validation label 클래스 분포:\n",
      "0    179\n",
      "1    196\n",
      "2    196\n",
      "3    219\n",
      "4    348\n",
      "dtype: int64\n"
     ]
    }
   ],
   "source": [
    "label_counts = pd.Series(val_labels).value_counts().sort_index()\n",
    "\n",
    "print(\"📊 validation label 클래스 분포:\")\n",
    "print(label_counts)"
   ]
  },
  {
   "cell_type": "markdown",
   "id": "47fd93d7",
   "metadata": {},
   "source": [
    "## 매트릭 함수"
   ]
  },
  {
   "cell_type": "code",
   "execution_count": 9,
   "id": "a132377d",
   "metadata": {},
   "outputs": [],
   "source": [
    "def compute_metrics(pred):\n",
    "    labels = pred.label_ids\n",
    "    preds = pred.predictions.argmax(-1)\n",
    "    return {\n",
    "        \"accuracy\": accuracy_score(labels, preds),\n",
    "        \"f1_macro\": f1_score(labels, preds, average=\"macro\")\n",
    "    }"
   ]
  },
  {
   "cell_type": "markdown",
   "id": "6dd790ec",
   "metadata": {},
   "source": [
    "## 모델 준비"
   ]
  },
  {
   "cell_type": "code",
   "execution_count": 10,
   "id": "cafb9eb1",
   "metadata": {},
   "outputs": [],
   "source": [
    "training_args = TrainingArguments(\n",
    "    output_dir=config[\"output_dir\"],\n",
    "    num_train_epochs=config[\"epochs\"],\n",
    "    per_device_train_batch_size=config[\"batch_size\"],\n",
    "    evaluation_strategy=config[\"eval_strategy\"],\n",
    "    save_strategy=config[\"save_strategy\"],\n",
    "    learning_rate=float(config[\"learning_rate\"]),\n",
    "    weight_decay=config[\"weight_decay\"],\n",
    "    warmup_ratio=config[\"warmup_ratio\"],\n",
    "    logging_dir=config[\"log_dir\"],\n",
    "    save_total_limit=config[\"save_total_limit\"],\n",
    "    load_best_model_at_end=True,\n",
    "    metric_for_best_model=\"f1_macro\",\n",
    "    logging_strategy=\"steps\",\n",
    "    logging_steps=50, \n",
    ")\n",
    "\n",
    "trainer = Trainer(\n",
    "    model=model,\n",
    "    args=training_args,\n",
    "    train_dataset=train_dataset,\n",
    "    eval_dataset=val_dataset,\n",
    "    compute_metrics=compute_metrics,\n",
    "    callbacks=[\n",
    "        EarlyStoppingCallback(early_stopping_patience=2),\n",
    "        LoggingCallback(),\n",
    "    ]\n",
    ")"
   ]
  },
  {
   "cell_type": "markdown",
   "id": "126ca857",
   "metadata": {},
   "source": [
    "## 모델 학습"
   ]
  },
  {
   "cell_type": "code",
   "execution_count": null,
   "id": "efc86ae0",
   "metadata": {},
   "outputs": [
    {
     "name": "stderr",
     "output_type": "stream",
     "text": [
      "***** Running training *****\n",
      "  Num examples = 4548\n",
      "  Num Epochs = 3\n",
      "  Instantaneous batch size per device = 32\n",
      "  Total train batch size (w. parallel, distributed & accumulation) = 32\n",
      "  Gradient Accumulation steps = 1\n",
      "  Total optimization steps = 429\n"
     ]
    },
    {
     "data": {
      "text/html": [
       "\n",
       "    <div>\n",
       "      \n",
       "      <progress value='383' max='429' style='width:300px; height:20px; vertical-align: middle;'></progress>\n",
       "      [383/429 07:55 < 00:57, 0.80 it/s, Epoch 2.67/3]\n",
       "    </div>\n",
       "    <table border=\"1\" class=\"dataframe\">\n",
       "  <thead>\n",
       "    <tr style=\"text-align: left;\">\n",
       "      <th>Epoch</th>\n",
       "      <th>Training Loss</th>\n",
       "      <th>Validation Loss</th>\n",
       "      <th>Accuracy</th>\n",
       "      <th>F1 Macro</th>\n",
       "    </tr>\n",
       "  </thead>\n",
       "  <tbody>\n",
       "    <tr>\n",
       "      <td>1</td>\n",
       "      <td>0.388300</td>\n",
       "      <td>0.228812</td>\n",
       "      <td>0.920914</td>\n",
       "      <td>0.909012</td>\n",
       "    </tr>\n",
       "    <tr>\n",
       "      <td>2</td>\n",
       "      <td>0.160000</td>\n",
       "      <td>0.214796</td>\n",
       "      <td>0.924429</td>\n",
       "      <td>0.913642</td>\n",
       "    </tr>\n",
       "  </tbody>\n",
       "</table><p>"
      ],
      "text/plain": [
       "<IPython.core.display.HTML object>"
      ]
     },
     "metadata": {},
     "output_type": "display_data"
    },
    {
     "name": "stderr",
     "output_type": "stream",
     "text": [
      "***** Running Evaluation *****\n",
      "  Num examples = 1138\n",
      "  Batch size = 8\n"
     ]
    },
    {
     "name": "stdout",
     "output_type": "stream",
     "text": [
      "[2025-05-02 03:47:48] Epoch 01 | Train Loss: 0.0000 | Val Loss: 0.2288 | Val Acc: 0.9209 | Val F1(Macro): 0.9090\n"
     ]
    },
    {
     "name": "stderr",
     "output_type": "stream",
     "text": [
      "Saving model checkpoint to ../ckpoints/kcbert/checkpoint-143\n",
      "Configuration saved in ../ckpoints/kcbert/checkpoint-143/config.json\n",
      "Model weights saved in ../ckpoints/kcbert/checkpoint-143/pytorch_model.bin\n",
      "***** Running Evaluation *****\n",
      "  Num examples = 1138\n",
      "  Batch size = 8\n"
     ]
    },
    {
     "name": "stdout",
     "output_type": "stream",
     "text": [
      "[2025-05-02 03:50:55] Epoch 02 | Train Loss: 0.0000 | Val Loss: 0.2148 | Val Acc: 0.9244 | Val F1(Macro): 0.9136\n"
     ]
    },
    {
     "name": "stderr",
     "output_type": "stream",
     "text": [
      "Saving model checkpoint to ../ckpoints/kcbert/checkpoint-286\n",
      "Configuration saved in ../ckpoints/kcbert/checkpoint-286/config.json\n",
      "Model weights saved in ../ckpoints/kcbert/checkpoint-286/pytorch_model.bin\n"
     ]
    }
   ],
   "source": [
    "trainer.train()\n",
    "save_model(model, config[\"output_dir\"], epoch=config[\"epochs\"])"
   ]
  },
  {
   "cell_type": "markdown",
   "id": "3071e4c5",
   "metadata": {},
   "source": [
    "## 테스트"
   ]
  },
  {
   "cell_type": "code",
   "execution_count": null,
   "id": "49ce5cd5",
   "metadata": {},
   "outputs": [],
   "source": [
    "# 1. 디바이스 설정\n",
    "device = torch.device(\"cuda\" if torch.cuda.is_available() else \"cpu\")\n",
    "model.to(device)\n",
    "model.eval()\n",
    "\n",
    "# 2. 입력 텐서도 같은 디바이스로 이동\n",
    "test_df = pd.read_csv(config[\"test_file\"])\n",
    "test_encodings = tokenizer(\n",
    "    test_df[\"clean_text\"].tolist(),\n",
    "    padding=\"max_length\",\n",
    "    truncation=True,\n",
    "    max_length=config[\"max_length\"],\n",
    "    return_tensors=\"pt\"\n",
    ")\n",
    "\n",
    "# ⬇️ 여기가 핵심\n",
    "test_encodings = {k: v.to(device) for k, v in test_encodings.items()}\n",
    "\n",
    "# 3. 예측\n",
    "with torch.no_grad():\n",
    "    outputs = model(**test_encodings)\n",
    "    preds = outputs.logits.argmax(dim=-1).cpu().numpy()"
   ]
  },
  {
   "cell_type": "code",
   "execution_count": null,
   "id": "44c65c5d",
   "metadata": {},
   "outputs": [],
   "source": [
    "save_submission(preds, \"../data/original_data/submission.csv\", config[\"submission_file\"])\n",
    "log_message(\"Experiment complete.\", config[\"log_dir\"])"
   ]
  },
  {
   "cell_type": "code",
   "execution_count": null,
   "id": "bbee0017",
   "metadata": {
    "scrolled": true
   },
   "outputs": [],
   "source": [
    "# 파일 로딩\n",
    "df = pd.read_csv(config[\"submission_file\"])\n",
    "\n",
    "# target 컬럼의 분포 확인\n",
    "target_counts = df[\"target\"].value_counts().sort_index()\n",
    "\n",
    "# 출력\n",
    "print(\"📊 Target 클래스 분포:\")\n",
    "print(target_counts)"
   ]
  },
  {
   "cell_type": "code",
   "execution_count": null,
   "id": "eac7359a",
   "metadata": {},
   "outputs": [],
   "source": [
    "log_target_distribution(df, config[\"log_dir\"])"
   ]
  },
  {
   "cell_type": "code",
   "execution_count": null,
   "id": "5750ccdd",
   "metadata": {},
   "outputs": [],
   "source": []
  }
 ],
 "metadata": {
  "kernelspec": {
   "display_name": "Python 3 (ipykernel)",
   "language": "python",
   "name": "python3"
  },
  "language_info": {
   "codemirror_mode": {
    "name": "ipython",
    "version": 3
   },
   "file_extension": ".py",
   "mimetype": "text/x-python",
   "name": "python",
   "nbconvert_exporter": "python",
   "pygments_lexer": "ipython3",
   "version": "3.9.7"
  }
 },
 "nbformat": 4,
 "nbformat_minor": 5
}
