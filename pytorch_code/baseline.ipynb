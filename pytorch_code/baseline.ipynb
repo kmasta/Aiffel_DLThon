{
 "cells": [
  {
   "cell_type": "markdown",
   "id": "ab543cd6",
   "metadata": {},
   "source": [
    "# Baseline Code"
   ]
  },
  {
   "cell_type": "markdown",
   "id": "356501b5",
   "metadata": {},
   "source": [
    "## 필요한 라이브러리 임포트"
   ]
  },
  {
   "cell_type": "code",
   "execution_count": 21,
   "id": "8e8c6990",
   "metadata": {},
   "outputs": [],
   "source": [
    "import yaml\n",
    "import pandas as pd\n",
    "from transformers import AutoTokenizer, AutoModelForSequenceClassification, Trainer, TrainingArguments, EarlyStoppingCallback\n",
    "from sklearn.metrics import f1_score, accuracy_score\n",
    "from torch.utils.data import Dataset\n",
    "import torch\n",
    "import os\n",
    "\n",
    "from callback.logger import log_message\n",
    "from callback.early_stopping import EarlyStopping\n",
    "from callback.checkpoint import save_model\n",
    "from callback.save_results import save_submission"
   ]
  },
  {
   "cell_type": "markdown",
   "id": "bcb31a7e",
   "metadata": {},
   "source": [
    "## 모델 정보 불러오기"
   ]
  },
  {
   "cell_type": "code",
   "execution_count": 26,
   "id": "902e65e5",
   "metadata": {},
   "outputs": [
    {
     "name": "stdout",
     "output_type": "stream",
     "text": [
      "[2025-05-02 02:38:05] Running experiment: klue_roberta_exp1\n"
     ]
    }
   ],
   "source": [
    "# Load model name\n",
    "with open(\"./config/model_name.yaml\", \"r\") as f:\n",
    "    model_name_config = yaml.safe_load(f)\n",
    "model_key = model_name_config[\"model_name\"]\n",
    "\n",
    "# Load full config for that model\n",
    "with open(f\"./config/{model_key}.yaml\", \"r\") as f:\n",
    "    config = yaml.safe_load(f)\n",
    "\n",
    "log_message(f\"Running experiment: {config['experiment_name']}\", config[\"log_dir\"])"
   ]
  },
  {
   "cell_type": "markdown",
   "id": "6f1b1577",
   "metadata": {},
   "source": [
    "## 토크나이저, 모델 구현"
   ]
  },
  {
   "cell_type": "code",
   "execution_count": 8,
   "id": "84d55f9e",
   "metadata": {},
   "outputs": [
    {
     "name": "stderr",
     "output_type": "stream",
     "text": [
      "Some weights of the model checkpoint at klue/roberta-base were not used when initializing RobertaForSequenceClassification: ['lm_head.layer_norm.bias', 'lm_head.dense.bias', 'lm_head.bias', 'lm_head.decoder.weight', 'lm_head.decoder.bias', 'lm_head.layer_norm.weight', 'lm_head.dense.weight']\n",
      "- This IS expected if you are initializing RobertaForSequenceClassification from the checkpoint of a model trained on another task or with another architecture (e.g. initializing a BertForSequenceClassification model from a BertForPreTraining model).\n",
      "- This IS NOT expected if you are initializing RobertaForSequenceClassification from the checkpoint of a model that you expect to be exactly identical (initializing a BertForSequenceClassification model from a BertForSequenceClassification model).\n",
      "Some weights of RobertaForSequenceClassification were not initialized from the model checkpoint at klue/roberta-base and are newly initialized: ['classifier.out_proj.bias', 'classifier.dense.weight', 'classifier.out_proj.weight', 'classifier.dense.bias']\n",
      "You should probably TRAIN this model on a down-stream task to be able to use it for predictions and inference.\n"
     ]
    }
   ],
   "source": [
    "tokenizer = AutoTokenizer.from_pretrained(config[\"tokenizer_name\"])\n",
    "model = AutoModelForSequenceClassification.from_pretrained(\n",
    "    config[\"pretrained_model_name\"],\n",
    "    num_labels=config[\"num_labels\"]\n",
    ")"
   ]
  },
  {
   "cell_type": "markdown",
   "id": "be9e685c",
   "metadata": {},
   "source": [
    "## 커스텀 데이터셋 클래스(토크나이징)"
   ]
  },
  {
   "cell_type": "code",
   "execution_count": 9,
   "id": "041d7e87",
   "metadata": {},
   "outputs": [],
   "source": [
    "class ChatDataset(Dataset):\n",
    "    def __init__(self, texts, labels, tokenizer, max_len):\n",
    "        self.encodings = tokenizer(texts, padding='max_length', truncation=True,\n",
    "                                   max_length=max_len, return_tensors=\"pt\")\n",
    "        self.labels = labels\n",
    "\n",
    "    def __len__(self):\n",
    "        return len(self.labels)\n",
    "\n",
    "    def __getitem__(self, idx):\n",
    "        item = {key: val[idx] for key, val in self.encodings.items()}\n",
    "        item[\"labels\"] = torch.tensor(self.labels[idx])\n",
    "        return item"
   ]
  },
  {
   "cell_type": "markdown",
   "id": "f621f6bb",
   "metadata": {},
   "source": [
    "## 데이터 불러오기"
   ]
  },
  {
   "cell_type": "code",
   "execution_count": 10,
   "id": "595f9222",
   "metadata": {},
   "outputs": [],
   "source": [
    "train_df = pd.read_csv(config[\"train_file\"])\n",
    "texts = train_df[\"clean_text\"].tolist()\n",
    "labels = train_df[\"label\"].tolist()\n",
    "\n",
    "dataset = ChatDataset(texts, labels, tokenizer, config[\"max_length\"])"
   ]
  },
  {
   "cell_type": "code",
   "execution_count": 16,
   "id": "c923377a",
   "metadata": {},
   "outputs": [],
   "source": [
    "from sklearn.model_selection import train_test_split\n",
    "\n",
    "train_texts, val_texts, train_labels, val_labels = train_test_split(\n",
    "    texts, labels, test_size=0.2, stratify=labels, random_state=42\n",
    ")\n",
    "\n",
    "train_dataset = ChatDataset(train_texts, train_labels, tokenizer, config[\"max_length\"])\n",
    "val_dataset = ChatDataset(val_texts, val_labels, tokenizer, config[\"max_length\"])"
   ]
  },
  {
   "cell_type": "code",
   "execution_count": 36,
   "id": "bb19bae7",
   "metadata": {
    "scrolled": true
   },
   "outputs": [
    {
     "name": "stdout",
     "output_type": "stream",
     "text": [
      "📊 train label 클래스 분포:\n",
      "0     717\n",
      "1     785\n",
      "2     783\n",
      "3     875\n",
      "4    1388\n",
      "dtype: int64\n"
     ]
    }
   ],
   "source": [
    "label_counts = pd.Series(train_labels).value_counts().sort_index()\n",
    "\n",
    "print(\"📊 train label 클래스 분포:\")\n",
    "print(label_counts)"
   ]
  },
  {
   "cell_type": "code",
   "execution_count": 37,
   "id": "38a09972",
   "metadata": {},
   "outputs": [
    {
     "name": "stdout",
     "output_type": "stream",
     "text": [
      "📊 validation label 클래스 분포:\n",
      "0    179\n",
      "1    196\n",
      "2    196\n",
      "3    219\n",
      "4    348\n",
      "dtype: int64\n"
     ]
    }
   ],
   "source": [
    "label_counts = pd.Series(val_labels).value_counts().sort_index()\n",
    "\n",
    "print(\"📊 validation label 클래스 분포:\")\n",
    "print(label_counts)"
   ]
  },
  {
   "cell_type": "markdown",
   "id": "0c8e196c",
   "metadata": {},
   "source": [
    "## 매트릭 함수"
   ]
  },
  {
   "cell_type": "code",
   "execution_count": 11,
   "id": "f05504d4",
   "metadata": {},
   "outputs": [],
   "source": [
    "def compute_metrics(pred):\n",
    "    labels = pred.label_ids\n",
    "    preds = pred.predictions.argmax(-1)\n",
    "    return {\n",
    "        \"accuracy\": accuracy_score(labels, preds),\n",
    "        \"f1_macro\": f1_score(labels, preds, average=\"macro\")\n",
    "    }"
   ]
  },
  {
   "cell_type": "markdown",
   "id": "36077ebf",
   "metadata": {},
   "source": [
    "## 모델 준비"
   ]
  },
  {
   "cell_type": "code",
   "execution_count": 19,
   "id": "a74ea18a",
   "metadata": {},
   "outputs": [
    {
     "name": "stderr",
     "output_type": "stream",
     "text": [
      "PyTorch: setting up devices\n",
      "The default value for the training argument `--report_to` will change in v5 (from all installed integrations to none). In v5, you will need to use `--report_to all` to get the same behavior as now. You should start updating your code and make this info disappear :-).\n"
     ]
    }
   ],
   "source": [
    "training_args = TrainingArguments(\n",
    "    output_dir=config[\"output_dir\"],\n",
    "    num_train_epochs=config[\"epochs\"],\n",
    "    per_device_train_batch_size=config[\"batch_size\"],\n",
    "    evaluation_strategy=config[\"eval_strategy\"],\n",
    "    save_strategy=config[\"save_strategy\"],\n",
    "    learning_rate=float(config[\"learning_rate\"]),\n",
    "    weight_decay=config[\"weight_decay\"],\n",
    "    warmup_ratio=config[\"warmup_ratio\"],\n",
    "    logging_dir=config[\"log_dir\"],\n",
    "    save_total_limit=config[\"save_total_limit\"],\n",
    "    load_best_model_at_end=True,\n",
    "    metric_for_best_model=\"f1_macro\",\n",
    ")\n",
    "\n",
    "trainer = Trainer(\n",
    "    model=model,\n",
    "    args=training_args,\n",
    "    train_dataset=train_dataset,\n",
    "    eval_dataset=val_dataset,\n",
    "    compute_metrics=compute_metrics,\n",
    "    callbacks=[EarlyStoppingCallback(early_stopping_patience=2)]\n",
    ")"
   ]
  },
  {
   "cell_type": "markdown",
   "id": "55eb3c74",
   "metadata": {},
   "source": [
    "## 모델 학습"
   ]
  },
  {
   "cell_type": "code",
   "execution_count": 20,
   "id": "aa659340",
   "metadata": {},
   "outputs": [
    {
     "name": "stderr",
     "output_type": "stream",
     "text": [
      "***** Running training *****\n",
      "  Num examples = 4548\n",
      "  Num Epochs = 3\n",
      "  Instantaneous batch size per device = 32\n",
      "  Total train batch size (w. parallel, distributed & accumulation) = 32\n",
      "  Gradient Accumulation steps = 1\n",
      "  Total optimization steps = 429\n"
     ]
    },
    {
     "data": {
      "text/html": [
       "\n",
       "    <div>\n",
       "      \n",
       "      <progress value='429' max='429' style='width:300px; height:20px; vertical-align: middle;'></progress>\n",
       "      [429/429 09:27, Epoch 3/3]\n",
       "    </div>\n",
       "    <table border=\"1\" class=\"dataframe\">\n",
       "  <thead>\n",
       "    <tr style=\"text-align: left;\">\n",
       "      <th>Epoch</th>\n",
       "      <th>Training Loss</th>\n",
       "      <th>Validation Loss</th>\n",
       "      <th>Accuracy</th>\n",
       "      <th>F1 Macro</th>\n",
       "    </tr>\n",
       "  </thead>\n",
       "  <tbody>\n",
       "    <tr>\n",
       "      <td>1</td>\n",
       "      <td>No log</td>\n",
       "      <td>0.188305</td>\n",
       "      <td>0.947276</td>\n",
       "      <td>0.939119</td>\n",
       "    </tr>\n",
       "    <tr>\n",
       "      <td>2</td>\n",
       "      <td>No log</td>\n",
       "      <td>0.169094</td>\n",
       "      <td>0.953427</td>\n",
       "      <td>0.946375</td>\n",
       "    </tr>\n",
       "    <tr>\n",
       "      <td>3</td>\n",
       "      <td>No log</td>\n",
       "      <td>0.179714</td>\n",
       "      <td>0.952548</td>\n",
       "      <td>0.945795</td>\n",
       "    </tr>\n",
       "  </tbody>\n",
       "</table><p>"
      ],
      "text/plain": [
       "<IPython.core.display.HTML object>"
      ]
     },
     "metadata": {},
     "output_type": "display_data"
    },
    {
     "name": "stderr",
     "output_type": "stream",
     "text": [
      "***** Running Evaluation *****\n",
      "  Num examples = 1138\n",
      "  Batch size = 8\n",
      "Saving model checkpoint to ../ckpoint/klue_roberta/checkpoint-143\n",
      "Configuration saved in ../ckpoint/klue_roberta/checkpoint-143/config.json\n",
      "Model weights saved in ../ckpoint/klue_roberta/checkpoint-143/pytorch_model.bin\n",
      "***** Running Evaluation *****\n",
      "  Num examples = 1138\n",
      "  Batch size = 8\n",
      "Saving model checkpoint to ../ckpoint/klue_roberta/checkpoint-286\n",
      "Configuration saved in ../ckpoint/klue_roberta/checkpoint-286/config.json\n",
      "Model weights saved in ../ckpoint/klue_roberta/checkpoint-286/pytorch_model.bin\n",
      "Deleting older checkpoint [../ckpoint/klue_roberta/checkpoint-178] due to args.save_total_limit\n",
      "***** Running Evaluation *****\n",
      "  Num examples = 1138\n",
      "  Batch size = 8\n",
      "Saving model checkpoint to ../ckpoint/klue_roberta/checkpoint-429\n",
      "Configuration saved in ../ckpoint/klue_roberta/checkpoint-429/config.json\n",
      "Model weights saved in ../ckpoint/klue_roberta/checkpoint-429/pytorch_model.bin\n",
      "Deleting older checkpoint [../ckpoint/klue_roberta/checkpoint-143] due to args.save_total_limit\n",
      "\n",
      "\n",
      "Training completed. Do not forget to share your model on huggingface.co/models =)\n",
      "\n",
      "\n",
      "Loading best model from ../ckpoint/klue_roberta/checkpoint-286 (score: 0.946375493330845).\n"
     ]
    }
   ],
   "source": [
    "trainer.train()\n",
    "save_model(model, config[\"output_dir\"], epoch=config[\"epochs\"])"
   ]
  },
  {
   "cell_type": "markdown",
   "id": "343604b9",
   "metadata": {},
   "source": [
    "## 테스트"
   ]
  },
  {
   "cell_type": "code",
   "execution_count": 24,
   "id": "a0d7d53a",
   "metadata": {},
   "outputs": [],
   "source": [
    "# 1. 디바이스 설정\n",
    "device = torch.device(\"cuda\" if torch.cuda.is_available() else \"cpu\")\n",
    "model.to(device)\n",
    "model.eval()\n",
    "\n",
    "# 2. 입력 텐서도 같은 디바이스로 이동\n",
    "test_df = pd.read_csv(config[\"test_file\"])\n",
    "test_encodings = tokenizer(\n",
    "    test_df[\"clean_text\"].tolist(),\n",
    "    padding=\"max_length\",\n",
    "    truncation=True,\n",
    "    max_length=config[\"max_length\"],\n",
    "    return_tensors=\"pt\"\n",
    ")\n",
    "\n",
    "# ⬇️ 여기가 핵심\n",
    "test_encodings = {k: v.to(device) for k, v in test_encodings.items()}\n",
    "\n",
    "# 3. 예측\n",
    "with torch.no_grad():\n",
    "    outputs = model(**test_encodings)\n",
    "    preds = outputs.logits.argmax(dim=-1).cpu().numpy()"
   ]
  },
  {
   "cell_type": "code",
   "execution_count": 31,
   "id": "c7951ddb",
   "metadata": {},
   "outputs": [
    {
     "name": "stdout",
     "output_type": "stream",
     "text": [
      "[2025-05-02 02:46:19] Experiment complete.\n"
     ]
    }
   ],
   "source": [
    "save_submission(preds, \"../data/original_data/submission.csv\", config[\"submission_file\"])\n",
    "log_message(\"Experiment complete.\", config[\"log_dir\"])"
   ]
  },
  {
   "cell_type": "code",
   "execution_count": 32,
   "id": "144c34b5",
   "metadata": {
    "scrolled": true
   },
   "outputs": [
    {
     "name": "stdout",
     "output_type": "stream",
     "text": [
      "📊 Target 클래스 분포:\n",
      "0    114\n",
      "1    100\n",
      "2    111\n",
      "3    164\n",
      "4     11\n",
      "Name: target, dtype: int64\n"
     ]
    }
   ],
   "source": [
    "# 파일 로딩\n",
    "df = pd.read_csv(config[\"submission_file\"])\n",
    "\n",
    "# target 컬럼의 분포 확인\n",
    "target_counts = df[\"target\"].value_counts().sort_index()\n",
    "\n",
    "# 출력\n",
    "print(\"📊 Target 클래스 분포:\")\n",
    "print(target_counts)"
   ]
  },
  {
   "cell_type": "code",
   "execution_count": null,
   "id": "a12d700f",
   "metadata": {},
   "outputs": [],
   "source": []
  }
 ],
 "metadata": {
  "kernelspec": {
   "display_name": "Python 3 (ipykernel)",
   "language": "python",
   "name": "python3"
  },
  "language_info": {
   "codemirror_mode": {
    "name": "ipython",
    "version": 3
   },
   "file_extension": ".py",
   "mimetype": "text/x-python",
   "name": "python",
   "nbconvert_exporter": "python",
   "pygments_lexer": "ipython3",
   "version": "3.9.7"
  }
 },
 "nbformat": 4,
 "nbformat_minor": 5
}
