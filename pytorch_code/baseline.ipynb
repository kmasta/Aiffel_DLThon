{
 "cells": [
  {
   "cell_type": "markdown",
   "id": "eb181ba8",
   "metadata": {},
   "source": [
    "# Baseline Code"
   ]
  },
  {
   "cell_type": "markdown",
   "id": "df08a157",
   "metadata": {},
   "source": [
    "## 필요한 라이브러리 임포트"
   ]
  },
  {
   "cell_type": "code",
   "execution_count": 1,
   "id": "145d5e65",
   "metadata": {},
   "outputs": [],
   "source": [
    "import yaml\n",
    "import pandas as pd\n",
    "from transformers import AutoTokenizer, AutoModelForSequenceClassification, Trainer, TrainingArguments, EarlyStoppingCallback\n",
    "from sklearn.metrics import f1_score, accuracy_score\n",
    "from torch.utils.data import Dataset\n",
    "import torch\n",
    "import os\n",
    "\n",
    "from callback.logger import log_message, log_target_distribution, LoggingCallback\n",
    "from callback.early_stopping import EarlyStopping\n",
    "from callback.checkpoint import save_model\n",
    "from callback.save_results import save_submission"
   ]
  },
  {
   "cell_type": "markdown",
   "id": "f4fe5cd0",
   "metadata": {},
   "source": [
    "## 모델 정보 불러오기"
   ]
  },
  {
   "cell_type": "code",
   "execution_count": 2,
   "id": "76cf4acc",
   "metadata": {},
   "outputs": [
    {
     "name": "stdout",
     "output_type": "stream",
     "text": [
      "[2025-05-02 08:18:53] Running experiment: klue_roberta_exp3\n"
     ]
    }
   ],
   "source": [
    "# Load model name\n",
    "with open(\"./config/model_name.yaml\", \"r\") as f:\n",
    "    model_name_config = yaml.safe_load(f)\n",
    "model_key = model_name_config[\"model_name\"]\n",
    "\n",
    "# Load full config for that model\n",
    "with open(f\"./config/{model_key}.yaml\", \"r\") as f:\n",
    "    config = yaml.safe_load(f)\n",
    "\n",
    "log_message(f\"Running experiment: {config['experiment_name']}\", config[\"log_dir\"])"
   ]
  },
  {
   "cell_type": "markdown",
   "id": "96c16e5e",
   "metadata": {},
   "source": [
    "## 토크나이저, 모델 구현"
   ]
  },
  {
   "cell_type": "code",
   "execution_count": 3,
   "id": "1b807559",
   "metadata": {},
   "outputs": [
    {
     "name": "stderr",
     "output_type": "stream",
     "text": [
      "Some weights of the model checkpoint at klue/roberta-base were not used when initializing RobertaForSequenceClassification: ['lm_head.bias', 'lm_head.layer_norm.weight', 'lm_head.dense.weight', 'lm_head.layer_norm.bias', 'lm_head.decoder.weight', 'lm_head.decoder.bias', 'lm_head.dense.bias']\n",
      "- This IS expected if you are initializing RobertaForSequenceClassification from the checkpoint of a model trained on another task or with another architecture (e.g. initializing a BertForSequenceClassification model from a BertForPreTraining model).\n",
      "- This IS NOT expected if you are initializing RobertaForSequenceClassification from the checkpoint of a model that you expect to be exactly identical (initializing a BertForSequenceClassification model from a BertForSequenceClassification model).\n",
      "Some weights of RobertaForSequenceClassification were not initialized from the model checkpoint at klue/roberta-base and are newly initialized: ['classifier.out_proj.bias', 'classifier.dense.weight', 'classifier.out_proj.weight', 'classifier.dense.bias']\n",
      "You should probably TRAIN this model on a down-stream task to be able to use it for predictions and inference.\n"
     ]
    }
   ],
   "source": [
    "tokenizer = AutoTokenizer.from_pretrained(config[\"tokenizer_name\"])\n",
    "model = AutoModelForSequenceClassification.from_pretrained(\n",
    "    config[\"pretrained_model_name\"],\n",
    "    num_labels=config[\"num_labels\"]\n",
    ")"
   ]
  },
  {
   "cell_type": "markdown",
   "id": "0c36e166",
   "metadata": {},
   "source": [
    "## 커스텀 데이터셋 클래스(토크나이징)"
   ]
  },
  {
   "cell_type": "code",
   "execution_count": 4,
   "id": "f01ade78",
   "metadata": {},
   "outputs": [],
   "source": [
    "class ChatDataset(Dataset):\n",
    "    def __init__(self, texts, labels, tokenizer, max_len):\n",
    "        self.encodings = tokenizer(texts, padding='max_length', truncation=True,\n",
    "                                   max_length=max_len, return_tensors=\"pt\")\n",
    "        self.labels = labels\n",
    "\n",
    "    def __len__(self):\n",
    "        return len(self.labels)\n",
    "\n",
    "    def __getitem__(self, idx):\n",
    "        item = {key: val[idx] for key, val in self.encodings.items()}\n",
    "        item[\"labels\"] = torch.tensor(self.labels[idx])\n",
    "        return item"
   ]
  },
  {
   "cell_type": "markdown",
   "id": "6386e17e",
   "metadata": {},
   "source": [
    "## 데이터 불러오기"
   ]
  },
  {
   "cell_type": "code",
   "execution_count": 5,
   "id": "4425cb18",
   "metadata": {},
   "outputs": [],
   "source": [
    "def load_train_data(train_file_config):\n",
    "    dfs = []\n",
    "    for file_cfg in train_file_config:\n",
    "        path = file_cfg[\"path\"]\n",
    "        size = file_cfg[\"size\"]\n",
    "\n",
    "        print(f\"Loading from {path} (size: {size})\")\n",
    "        df = pd.read_csv(path)\n",
    "\n",
    "        if size == \"all\":\n",
    "            dfs.append(df)\n",
    "        else:\n",
    "            size = int(size)\n",
    "            if len(df) < size:\n",
    "                raise ValueError(f\"{path} has only {len(df)} rows, cannot take {size}\")\n",
    "            dfs.append(df.sample(n=size, random_state=42))\n",
    "\n",
    "    return pd.concat(dfs, ignore_index=True)"
   ]
  },
  {
   "cell_type": "code",
   "execution_count": 6,
   "id": "5c8a89a0",
   "metadata": {},
   "outputs": [
    {
     "name": "stdout",
     "output_type": "stream",
     "text": [
      "Loading from ../data/processed/original/clean_train.csv (size: all)\n",
      "Loading from ../data/processed/aihub/clean_sns_multiturn.csv (size: 10000)\n",
      "Loading from ../data/processed/generated/clean_general.csv (size: 1000)\n",
      "Loading from ../data/processed/generated/clean_bad.csv (size: 200)\n"
     ]
    }
   ],
   "source": [
    "train_df = load_train_data(config[\"train_files\"])\n",
    "texts = train_df[\"clean_text\"].tolist()\n",
    "labels = train_df[\"label\"].tolist()\n",
    "\n",
    "dataset = ChatDataset(texts, labels, tokenizer, config[\"max_length\"])"
   ]
  },
  {
   "cell_type": "code",
   "execution_count": 7,
   "id": "41bec869",
   "metadata": {},
   "outputs": [],
   "source": [
    "from sklearn.model_selection import train_test_split\n",
    "\n",
    "train_texts, val_texts, train_labels, val_labels = train_test_split(\n",
    "    texts, labels, test_size=0.2, stratify=labels, random_state=42\n",
    ")\n",
    "\n",
    "train_dataset = ChatDataset(train_texts, train_labels, tokenizer, config[\"max_length\"])\n",
    "val_dataset = ChatDataset(val_texts, val_labels, tokenizer, config[\"max_length\"])"
   ]
  },
  {
   "cell_type": "code",
   "execution_count": 8,
   "id": "9ec2d5c3",
   "metadata": {
    "scrolled": true
   },
   "outputs": [
    {
     "name": "stdout",
     "output_type": "stream",
     "text": [
      "📊 train label 클래스 분포:\n",
      "0     717\n",
      "1     785\n",
      "2     783\n",
      "3     875\n",
      "4    8960\n",
      "dtype: int64\n"
     ]
    }
   ],
   "source": [
    "label_counts = pd.Series(train_labels).value_counts().sort_index()\n",
    "\n",
    "print(\"📊 train label 클래스 분포:\")\n",
    "print(label_counts)"
   ]
  },
  {
   "cell_type": "code",
   "execution_count": 9,
   "id": "e9a135a6",
   "metadata": {},
   "outputs": [
    {
     "name": "stdout",
     "output_type": "stream",
     "text": [
      "📊 validation label 클래스 분포:\n",
      "0     179\n",
      "1     196\n",
      "2     196\n",
      "3     219\n",
      "4    2240\n",
      "dtype: int64\n"
     ]
    }
   ],
   "source": [
    "label_counts = pd.Series(val_labels).value_counts().sort_index()\n",
    "\n",
    "print(\"📊 validation label 클래스 분포:\")\n",
    "print(label_counts)"
   ]
  },
  {
   "cell_type": "markdown",
   "id": "aa151219",
   "metadata": {},
   "source": [
    "## 매트릭 함수"
   ]
  },
  {
   "cell_type": "code",
   "execution_count": 10,
   "id": "a0d16d7e",
   "metadata": {},
   "outputs": [],
   "source": [
    "def compute_metrics(pred):\n",
    "    labels = pred.label_ids\n",
    "    preds = pred.predictions.argmax(-1)\n",
    "    return {\n",
    "        \"accuracy\": accuracy_score(labels, preds),\n",
    "        \"f1_macro\": f1_score(labels, preds, average=\"macro\")\n",
    "    }"
   ]
  },
  {
   "cell_type": "markdown",
   "id": "e4eef9cb",
   "metadata": {},
   "source": [
    "## 모델 준비"
   ]
  },
  {
   "cell_type": "code",
   "execution_count": 11,
   "id": "a610bfd3",
   "metadata": {},
   "outputs": [],
   "source": [
    "training_args = TrainingArguments(\n",
    "    output_dir=config[\"output_dir\"],\n",
    "    num_train_epochs=config[\"epochs\"],\n",
    "    per_device_train_batch_size=config[\"batch_size\"],\n",
    "    evaluation_strategy=config[\"eval_strategy\"],\n",
    "    save_strategy=config[\"save_strategy\"],\n",
    "    learning_rate=float(config[\"learning_rate\"]),\n",
    "    weight_decay=config[\"weight_decay\"],\n",
    "    warmup_ratio=config[\"warmup_ratio\"],\n",
    "    logging_dir=config[\"log_dir\"],\n",
    "    save_total_limit=config[\"save_total_limit\"],\n",
    "    load_best_model_at_end=True,\n",
    "    metric_for_best_model=\"f1_macro\",\n",
    "    logging_strategy=\"steps\",\n",
    "    logging_steps=50, \n",
    ")\n",
    "\n",
    "trainer = Trainer(\n",
    "    model=model,\n",
    "    args=training_args,\n",
    "    train_dataset=train_dataset,\n",
    "    eval_dataset=val_dataset,\n",
    "    compute_metrics=compute_metrics,\n",
    "    callbacks=[\n",
    "        EarlyStoppingCallback(early_stopping_patience=2),\n",
    "        LoggingCallback(),\n",
    "    ]\n",
    ")"
   ]
  },
  {
   "cell_type": "markdown",
   "id": "c28e509d",
   "metadata": {},
   "source": [
    "## 모델 학습"
   ]
  },
  {
   "cell_type": "code",
   "execution_count": 12,
   "id": "afd0a20e",
   "metadata": {},
   "outputs": [
    {
     "name": "stderr",
     "output_type": "stream",
     "text": [
      "***** Running training *****\n",
      "  Num examples = 12120\n",
      "  Num Epochs = 3\n",
      "  Instantaneous batch size per device = 32\n",
      "  Total train batch size (w. parallel, distributed & accumulation) = 32\n",
      "  Gradient Accumulation steps = 1\n",
      "  Total optimization steps = 1137\n"
     ]
    },
    {
     "data": {
      "text/html": [
       "\n",
       "    <div>\n",
       "      \n",
       "      <progress value='1137' max='1137' style='width:300px; height:20px; vertical-align: middle;'></progress>\n",
       "      [1137/1137 24:17, Epoch 3/3]\n",
       "    </div>\n",
       "    <table border=\"1\" class=\"dataframe\">\n",
       "  <thead>\n",
       "    <tr style=\"text-align: left;\">\n",
       "      <th>Epoch</th>\n",
       "      <th>Training Loss</th>\n",
       "      <th>Validation Loss</th>\n",
       "      <th>Accuracy</th>\n",
       "      <th>F1 Macro</th>\n",
       "    </tr>\n",
       "  </thead>\n",
       "  <tbody>\n",
       "    <tr>\n",
       "      <td>1</td>\n",
       "      <td>0.112200</td>\n",
       "      <td>0.103538</td>\n",
       "      <td>0.968647</td>\n",
       "      <td>0.903922</td>\n",
       "    </tr>\n",
       "    <tr>\n",
       "      <td>2</td>\n",
       "      <td>0.069500</td>\n",
       "      <td>0.084800</td>\n",
       "      <td>0.974917</td>\n",
       "      <td>0.923157</td>\n",
       "    </tr>\n",
       "    <tr>\n",
       "      <td>3</td>\n",
       "      <td>0.033700</td>\n",
       "      <td>0.094832</td>\n",
       "      <td>0.975578</td>\n",
       "      <td>0.925514</td>\n",
       "    </tr>\n",
       "  </tbody>\n",
       "</table><p>"
      ],
      "text/plain": [
       "<IPython.core.display.HTML object>"
      ]
     },
     "metadata": {},
     "output_type": "display_data"
    },
    {
     "name": "stderr",
     "output_type": "stream",
     "text": [
      "***** Running Evaluation *****\n",
      "  Num examples = 3030\n",
      "  Batch size = 8\n"
     ]
    },
    {
     "name": "stdout",
     "output_type": "stream",
     "text": [
      "[2025-05-02 08:26:50] Epoch 01 | Train Loss: 0.0000 | Val Loss: 0.1035 | Val Acc: 0.9686 | Val F1(Macro): 0.9039\n"
     ]
    },
    {
     "name": "stderr",
     "output_type": "stream",
     "text": [
      "Saving model checkpoint to ../ckpoints/klue_roberta/checkpoint-379\n",
      "Configuration saved in ../ckpoints/klue_roberta/checkpoint-379/config.json\n",
      "Model weights saved in ../ckpoints/klue_roberta/checkpoint-379/pytorch_model.bin\n",
      "Deleting older checkpoint [../ckpoints/klue_roberta/checkpoint-508] due to args.save_total_limit\n",
      "***** Running Evaluation *****\n",
      "  Num examples = 3030\n",
      "  Batch size = 8\n"
     ]
    },
    {
     "name": "stdout",
     "output_type": "stream",
     "text": [
      "[2025-05-02 08:34:56] Epoch 02 | Train Loss: 0.0000 | Val Loss: 0.0848 | Val Acc: 0.9749 | Val F1(Macro): 0.9232\n"
     ]
    },
    {
     "name": "stderr",
     "output_type": "stream",
     "text": [
      "Saving model checkpoint to ../ckpoints/klue_roberta/checkpoint-758\n",
      "Configuration saved in ../ckpoints/klue_roberta/checkpoint-758/config.json\n",
      "Model weights saved in ../ckpoints/klue_roberta/checkpoint-758/pytorch_model.bin\n",
      "Deleting older checkpoint [../ckpoints/klue_roberta/checkpoint-762] due to args.save_total_limit\n",
      "***** Running Evaluation *****\n",
      "  Num examples = 3030\n",
      "  Batch size = 8\n"
     ]
    },
    {
     "name": "stdout",
     "output_type": "stream",
     "text": [
      "[2025-05-02 08:43:02] Epoch 03 | Train Loss: 0.0000 | Val Loss: 0.0948 | Val Acc: 0.9756 | Val F1(Macro): 0.9255\n"
     ]
    },
    {
     "name": "stderr",
     "output_type": "stream",
     "text": [
      "Saving model checkpoint to ../ckpoints/klue_roberta/checkpoint-1137\n",
      "Configuration saved in ../ckpoints/klue_roberta/checkpoint-1137/config.json\n",
      "Model weights saved in ../ckpoints/klue_roberta/checkpoint-1137/pytorch_model.bin\n",
      "Deleting older checkpoint [../ckpoints/klue_roberta/checkpoint-379] due to args.save_total_limit\n",
      "\n",
      "\n",
      "Training completed. Do not forget to share your model on huggingface.co/models =)\n",
      "\n",
      "\n",
      "Loading best model from ../ckpoints/klue_roberta/checkpoint-1137 (score: 0.9255144332666237).\n"
     ]
    }
   ],
   "source": [
    "trainer.train()\n",
    "save_model(model, config[\"output_dir\"], epoch=config[\"epochs\"])"
   ]
  },
  {
   "cell_type": "markdown",
   "id": "e11778cb",
   "metadata": {},
   "source": [
    "## 테스트"
   ]
  },
  {
   "cell_type": "code",
   "execution_count": 13,
   "id": "8a5011ac",
   "metadata": {},
   "outputs": [],
   "source": [
    "# 1. 디바이스 설정\n",
    "device = torch.device(\"cuda\" if torch.cuda.is_available() else \"cpu\")\n",
    "model.to(device)\n",
    "model.eval()\n",
    "\n",
    "# 2. 입력 텐서도 같은 디바이스로 이동\n",
    "test_df = pd.read_csv(config[\"test_file\"])\n",
    "test_encodings = tokenizer(\n",
    "    test_df[\"clean_text\"].tolist(),\n",
    "    padding=\"max_length\",\n",
    "    truncation=True,\n",
    "    max_length=config[\"max_length\"],\n",
    "    return_tensors=\"pt\"\n",
    ")\n",
    "\n",
    "# ⬇️ 여기가 핵심\n",
    "test_encodings = {k: v.to(device) for k, v in test_encodings.items()}\n",
    "\n",
    "# 3. 예측\n",
    "with torch.no_grad():\n",
    "    outputs = model(**test_encodings)\n",
    "    preds = outputs.logits.argmax(dim=-1).cpu().numpy()"
   ]
  },
  {
   "cell_type": "code",
   "execution_count": 14,
   "id": "04bddf26",
   "metadata": {},
   "outputs": [
    {
     "name": "stdout",
     "output_type": "stream",
     "text": [
      "[2025-05-02 08:43:47] Experiment complete.\n"
     ]
    }
   ],
   "source": [
    "save_submission(preds, \"../data/original_data/submission.csv\", config[\"submission_file\"])\n",
    "log_message(\"Experiment complete.\", config[\"log_dir\"])"
   ]
  },
  {
   "cell_type": "code",
   "execution_count": 15,
   "id": "4fe38c92",
   "metadata": {
    "scrolled": true
   },
   "outputs": [
    {
     "name": "stdout",
     "output_type": "stream",
     "text": [
      "[2025-05-02 08:43:48] 📊 Target 클래스 분포:\n",
      "[2025-05-02 08:43:48] Label 0: 97\n",
      "[2025-05-02 08:43:48] Label 1: 117\n",
      "[2025-05-02 08:43:49] Label 2: 120\n",
      "[2025-05-02 08:43:49] Label 3: 155\n",
      "[2025-05-02 08:43:49] Label 4: 11\n"
     ]
    }
   ],
   "source": [
    "# 파일 로딩\n",
    "df = pd.read_csv(config[\"submission_file\"])\n",
    "\n",
    "log_target_distribution(df, config[\"log_dir\"])"
   ]
  },
  {
   "cell_type": "code",
   "execution_count": null,
   "id": "c2388cde",
   "metadata": {},
   "outputs": [],
   "source": []
  }
 ],
 "metadata": {
  "kernelspec": {
   "display_name": "Python 3 (ipykernel)",
   "language": "python",
   "name": "python3"
  },
  "language_info": {
   "codemirror_mode": {
    "name": "ipython",
    "version": 3
   },
   "file_extension": ".py",
   "mimetype": "text/x-python",
   "name": "python",
   "nbconvert_exporter": "python",
   "pygments_lexer": "ipython3",
   "version": "3.9.7"
  }
 },
 "nbformat": 4,
 "nbformat_minor": 5
}
