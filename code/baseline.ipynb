{
 "cells": [
  {
   "cell_type": "markdown",
   "id": "857d8b87",
   "metadata": {},
   "source": [
    "# Baseline Code"
   ]
  },
  {
   "cell_type": "markdown",
   "id": "00af6367",
   "metadata": {},
   "source": [
    "## 라이브러리 불러오기"
   ]
  },
  {
   "cell_type": "code",
   "execution_count": 35,
   "id": "19084145",
   "metadata": {
    "vscode": {
     "languageId": "plaintext"
    }
   },
   "outputs": [],
   "source": [
    "import tensorflow as tf\n",
    "import tensorflow_datasets as tfds\n",
    "import os\n",
    "import re\n",
    "import numpy as np\n",
    "import matplotlib.pyplot as plt\n",
    "import pandas as pd"
   ]
  },
  {
   "cell_type": "markdown",
   "id": "eb1c8ddb",
   "metadata": {},
   "source": [
    "## 데이터 받아오기"
   ]
  },
  {
   "cell_type": "code",
   "execution_count": 36,
   "id": "5437bb3a",
   "metadata": {},
   "outputs": [],
   "source": [
    "def load_chat_data(filepath):\n",
    "    df = pd.read_csv(filepath)\n",
    "    \n",
    "    labels = df[\"class\"].astype(str).tolist()\n",
    "    sentences = df[\"conversation\"].astype(str).tolist()\n",
    "\n",
    "    return labels, sentences"
   ]
  },
  {
   "cell_type": "code",
   "execution_count": 37,
   "id": "7ab14adc",
   "metadata": {
    "vscode": {
     "languageId": "plaintext"
    }
   },
   "outputs": [
    {
     "name": "stdout",
     "output_type": "stream",
     "text": [
      "레이블 예시: ['협박 대화']\n",
      "대화 예시: ['지금 너 스스로를 죽여달라고 애원하는 것인가?\\n 아닙니다. 죄송합니다.\\n 죽을 거면 혼자 죽지 우리까지 사건에 휘말리게 해? 진짜 죽여버리고 싶게.\\n 정말 잘못했습니다.\\n 너가 선택해. 너가 죽을래 네 가족을 죽여줄까.\\n 죄송합니다. 정말 잘못했습니다.\\n 너에게는 선택권이 없어. 선택 못한다면 너와 네 가족까지 모조리 죽여버릴거야.\\n 선택 못하겠습니다. 한번만 도와주세요.\\n 그냥 다 죽여버려야겠군. 이의 없지?\\n 제발 도와주세요.']\n"
     ]
    }
   ],
   "source": [
    "original_train_data_path =\"../data/original_data/original_train.csv\"\n",
    "# 아래 경로는 예시입니다.\n",
    "augmented_train_data_path =\"../data/augmentation_data/augmentation_train.csv\"\n",
    "daily_train_data_path =\"../data/daily_data/daily_train.csv\"\n",
    "\n",
    "# 일반 대화 개수 정하는 변수\n",
    "daily_data_num = 1000\n",
    "\n",
    "labels, sentences = load_chat_data(original_train_data_path)\n",
    "daily_labels, daily_sentences = load_chat_data(daily_train_data_path)\n",
    "\n",
    "# 필요한 수만큼 자르기\n",
    "daily_labels_subset = daily_labels[:daily_data_num]\n",
    "daily_sentences_subset = daily_sentences[:daily_data_num]\n",
    "\n",
    "# 기존 데이터에 덧붙이기\n",
    "labels += daily_labels_subset\n",
    "sentences += daily_sentences_subset\n",
    "\n",
    "print(\"레이블 예시:\", labels[:1])\n",
    "print(\"대화 예시:\", sentences[:1])"
   ]
  },
  {
   "cell_type": "markdown",
   "id": "1008ddb2",
   "metadata": {},
   "source": [
    "## 데이터 전처리"
   ]
  },
  {
   "cell_type": "markdown",
   "id": "f23d219e",
   "metadata": {},
   "source": [
    "### 데이터 전처리 함수 불러와서 사용"
   ]
  },
  {
   "cell_type": "code",
   "execution_count": 38,
   "id": "8a3bb994",
   "metadata": {
    "vscode": {
     "languageId": "plaintext"
    }
   },
   "outputs": [
    {
     "name": "stdout",
     "output_type": "stream",
     "text": [
      "와 ! 진짜대박 123 진짜\n"
     ]
    }
   ],
   "source": [
    "from preprocessing import *\n",
    "\n",
    "example = \"와!진짜대박123진짜\"\n",
    "print(preprocess_sentence(example))"
   ]
  },
  {
   "cell_type": "code",
   "execution_count": 39,
   "id": "c06e1052",
   "metadata": {
    "scrolled": false
   },
   "outputs": [
    {
     "name": "stdout",
     "output_type": "stream",
     "text": [
      "대화 예시: 경비아저씨 내차에 경고장 붙였어요 ? 내가 여기 몇년째 사는데 아직도 내차인줄 모르고 이딴식으로 경고장을 붙여 ? 입주민께서 정해진 주차자리가 아닌 통로에 계속 주차하셔서 입주민들 항의가 계속 들어옵니다 . 내가 항상 대는 거기 자리가 없으니까 그렇지 . 내차 이거 어떻게 할거요 ? 얼마짜린줄 알아 ? 수차례 인터폰도 드렸고 경고장을 올렸으나 몇일째 그대로 인지라 아파트규약에 맞춰 어쩔수 없었습니다 그렇다고 본드로 붙이면 어떻게 ? 당장 이거 깨끗히 원상복구시키고 세차해와 그럴 수는 없습니다 . 내가 낸 관리비로 월급받는 주제에 뭐라는거야 ? 안붙혔으면 되잖아 . 나 지금 거기 가요 ! 말씀이 과하신거 아닙니까 ? 딱 기다려요 이름뭐죠 ? 나 지금 가면 당신 이제 끝이야\n"
     ]
    }
   ],
   "source": [
    "sentences = [preprocess_sentence(s) for s in sentences]\n",
    "print(\"대화 예시:\", sentences[7])"
   ]
  },
  {
   "cell_type": "markdown",
   "id": "2779e394",
   "metadata": {},
   "source": [
    "### 단어장 만들기 & 정수 인코딩"
   ]
  },
  {
   "cell_type": "code",
   "execution_count": 40,
   "id": "30f1000c",
   "metadata": {},
   "outputs": [
    {
     "name": "stdout",
     "output_type": "stream",
     "text": [
      "🔄 토크나이저 생성 중...\n"
     ]
    }
   ],
   "source": [
    "# 모델 안에서 토크나이징 하도록 수정\n",
    "from models import *\n",
    "\n",
    "model_wrapper = TransformerClassifier()\n",
    "\n",
    "# 1. 토크나이저 구축\n",
    "model_wrapper.build_tokenizer(sentences)"
   ]
  },
  {
   "cell_type": "markdown",
   "id": "40eebdc3",
   "metadata": {},
   "source": [
    "### 정수 인코딩"
   ]
  },
  {
   "cell_type": "code",
   "execution_count": 41,
   "id": "32527fa1",
   "metadata": {},
   "outputs": [],
   "source": [
    "# 2. 정수 인코딩\n",
    "tokenized = model_wrapper.encode(sentences)"
   ]
  },
  {
   "cell_type": "markdown",
   "id": "3354d669",
   "metadata": {},
   "source": [
    "### 데이터 확인"
   ]
  },
  {
   "cell_type": "code",
   "execution_count": 42,
   "id": "fb737fd2",
   "metadata": {
    "scrolled": true
   },
   "outputs": [
    {
     "name": "stderr",
     "output_type": "stream",
     "text": [
      "WARNING:matplotlib.legend:No handles with labels found to put in legend.\n"
     ]
    },
    {
     "data": {
      "image/png": "[encoded data removed]",
      "text/plain": [
       "<Figure size 432x288 with 1 Axes>"
      ]
     },
     "metadata": {
      "needs_background": "light"
     },
     "output_type": "display_data"
    }
   ],
   "source": [
    "sentence_lengths = [len(s) for s in tokenized]\n",
    "\n",
    "plt.hist(sentence_lengths, bins=50, alpha=0.6)\n",
    "plt.xlabel('Length')\n",
    "plt.ylabel('Count')\n",
    "plt.title('Token Length Distribution')\n",
    "plt.legend()\n",
    "plt.show()"
   ]
  },
  {
   "cell_type": "code",
   "execution_count": 43,
   "id": "b7c324d0",
   "metadata": {
    "scrolled": true
   },
   "outputs": [
    {
     "name": "stdout",
     "output_type": "stream",
     "text": [
      "질문 최대 길이: 396\n",
      "95% 답변 길이: 178.0\n"
     ]
    }
   ],
   "source": [
    "print(\"질문 최대 길이:\", np.max(sentence_lengths))\n",
    "\n",
    "print(\"95% 답변 길이:\", np.percentile(sentence_lengths, 95))"
   ]
  },
  {
   "cell_type": "code",
   "execution_count": 44,
   "id": "d18ecca5",
   "metadata": {},
   "outputs": [],
   "source": [
    "# 3. MAX_LENGTH 결정\n",
    "model_wrapper.compute_max_length(tokenized)"
   ]
  },
  {
   "cell_type": "code",
   "execution_count": 45,
   "id": "a655b60a",
   "metadata": {},
   "outputs": [],
   "source": [
    "# 4. 패딩 및 필터링\n",
    "sentences, labels = model_wrapper.filter_and_pad(tokenized, labels)"
   ]
  },
  {
   "cell_type": "markdown",
   "id": "77a04814",
   "metadata": {},
   "source": [
    "### 레이블 인코딩"
   ]
  },
  {
   "cell_type": "code",
   "execution_count": 46,
   "id": "5713ae4a",
   "metadata": {},
   "outputs": [],
   "source": [
    "# 선택한 라벨 인코딩 방식\n",
    "label_encoding_method = \"int\"  # 또는 \"onehot\"\n",
    "\n",
    "encoded_labels = encode_labels(labels, method=label_encoding_method)"
   ]
  },
  {
   "cell_type": "markdown",
   "id": "1c016083",
   "metadata": {},
   "source": [
    "### 데이터셋 구성"
   ]
  },
  {
   "cell_type": "code",
   "execution_count": 47,
   "id": "1d92168a",
   "metadata": {},
   "outputs": [],
   "source": [
    "from sklearn.model_selection import train_test_split\n",
    "\n",
    "# 1. 전체 데이터를 train+val+test로 8:1:1 분할\n",
    "sent_temp, sent_test, label_temp, label_test = train_test_split(\n",
    "    sentences, encoded_labels, test_size=0.1, random_state=42, stratify=encoded_labels\n",
    ")\n",
    "\n",
    "sent_train, sent_val, label_train, label_val = train_test_split(\n",
    "    sent_temp, label_temp, test_size=0.1111, random_state=42, stratify=label_temp\n",
    ")"
   ]
  },
  {
   "cell_type": "code",
   "execution_count": 48,
   "id": "80c796b9",
   "metadata": {},
   "outputs": [],
   "source": [
    "# 2. Dataset 구성\n",
    "BATCH_SIZE = 64\n",
    "BUFFER_SIZE = 10000\n",
    "\n",
    "train_dataset = tf.data.Dataset.from_tensor_slices((sent_train, label_train))\n",
    "train_dataset = train_dataset.shuffle(BUFFER_SIZE).batch(BATCH_SIZE).prefetch(tf.data.AUTOTUNE)\n",
    "\n",
    "val_dataset = tf.data.Dataset.from_tensor_slices((sent_val, label_val))\n",
    "val_dataset = val_dataset.batch(BATCH_SIZE).prefetch(tf.data.AUTOTUNE)\n",
    "\n",
    "test_dataset = tf.data.Dataset.from_tensor_slices((sent_test, label_test))\n",
    "test_dataset = test_dataset.batch(BATCH_SIZE).prefetch(tf.data.AUTOTUNE)"
   ]
  },
  {
   "cell_type": "markdown",
   "id": "4ed95fcd",
   "metadata": {},
   "source": [
    "## 모델 구성"
   ]
  },
  {
   "cell_type": "markdown",
   "id": "600630de",
   "metadata": {},
   "source": [
    "### 콜백 설정"
   ]
  },
  {
   "cell_type": "code",
   "execution_count": 49,
   "id": "07c6ef49",
   "metadata": {},
   "outputs": [],
   "source": [
    "from tensorflow.keras.callbacks import ModelCheckpoint, EarlyStopping, CSVLogger\n",
    "\n",
    "# 이 실험의 이름 작성\n",
    "experiment_name = f\"base_daily{daily_data_num}\"\n",
    "\n",
    "train_log_path = f\"../logs/{experiment_name}_train.csv\"\n",
    "test_log_path = f\"../logs/{experiment_name}_test.txt\"\n",
    "\n",
    "checkpoint_cb = ModelCheckpoint(\n",
    "    filepath=f\"../ckpoints/{experiment_name}_best_model.h5\",\n",
    "    monitor=\"val_f1_score\",\n",
    "    mode=\"max\",\n",
    "    save_best_only=True,\n",
    "    verbose=1\n",
    ")\n",
    "\n",
    "earlystop_cb = EarlyStopping(\n",
    "    monitor=\"val_f1_score\",\n",
    "    mode=\"max\",\n",
    "    patience=2,\n",
    "    verbose=1,\n",
    "    restore_best_weights=True\n",
    ")\n",
    "\n",
    "csv_logger_cb = CSVLogger(train_log_path, append=True)"
   ]
  },
  {
   "cell_type": "markdown",
   "id": "87ca4e57",
   "metadata": {},
   "source": [
    "### 모델 생성"
   ]
  },
  {
   "cell_type": "code",
   "execution_count": 50,
   "id": "cc4f7223",
   "metadata": {
    "scrolled": true,
    "vscode": {
     "languageId": "plaintext"
    }
   },
   "outputs": [
    {
     "name": "stdout",
     "output_type": "stream",
     "text": [
      "Model: \"model_2\"\n",
      "_________________________________________________________________\n",
      "Layer (type)                 Output Shape              Param #   \n",
      "=================================================================\n",
      "input_3 (InputLayer)         [(None, 178)]             0         \n",
      "_________________________________________________________________\n",
      "embedding_2 (Embedding)      (None, 178, 128)          1045632   \n",
      "_________________________________________________________________\n",
      "transformer_block_2 (Transfo (None, 178, 128)          330240    \n",
      "_________________________________________________________________\n",
      "global_average_pooling1d_2 ( (None, 128)               0         \n",
      "_________________________________________________________________\n",
      "dropout_22 (Dropout)         (None, 128)               0         \n",
      "_________________________________________________________________\n",
      "dense_22 (Dense)             (None, 64)                8256      \n",
      "_________________________________________________________________\n",
      "dropout_23 (Dropout)         (None, 64)                0         \n",
      "_________________________________________________________________\n",
      "dense_23 (Dense)             (None, 5)                 325       \n",
      "=================================================================\n",
      "Total params: 1,384,453\n",
      "Trainable params: 1,384,453\n",
      "Non-trainable params: 0\n",
      "_________________________________________________________________\n"
     ]
    }
   ],
   "source": [
    "# 사용자 정의 매트릭(f1_score) 사용\n",
    "from custom_metrics import *\n",
    "\n",
    "model = model_wrapper.create_model()\n",
    "loss_fn = \"sparse_categorical_crossentropy\" if label_encoding_method == \"int\" else \"categorical_crossentropy\"\n",
    "model.compile(optimizer=\"adam\", loss=loss_fn, metrics=[F1Score(num_classes=5, name=\"f1_score\")])\n",
    "\n",
    "model.summary()"
   ]
  },
  {
   "cell_type": "markdown",
   "id": "2077fdc2",
   "metadata": {},
   "source": [
    "## 모델 학습"
   ]
  },
  {
   "cell_type": "code",
   "execution_count": 51,
   "id": "05bb3184",
   "metadata": {
    "scrolled": true,
    "vscode": {
     "languageId": "plaintext"
    }
   },
   "outputs": [
    {
     "name": "stdout",
     "output_type": "stream",
     "text": [
      "Epoch 1/20\n",
      "59/59 [==============================] - 3s 33ms/step - loss: 1.5368 - f1_score: 0.2850 - val_loss: 1.1238 - val_f1_score: 0.3556\n",
      "\n",
      "Epoch 00001: val_f1_score improved from -inf to 0.35563, saving model to ../ckpoints/base_daily1000_best_model.h5\n",
      "Epoch 2/20\n",
      "59/59 [==============================] - 2s 27ms/step - loss: 0.7664 - f1_score: 0.6682 - val_loss: 0.4562 - val_f1_score: 0.8205\n",
      "\n",
      "Epoch 00002: val_f1_score improved from 0.35563 to 0.82054, saving model to ../ckpoints/base_daily1000_best_model.h5\n",
      "Epoch 3/20\n",
      "59/59 [==============================] - 2s 27ms/step - loss: 0.1911 - f1_score: 0.9376 - val_loss: 0.3078 - val_f1_score: 0.8723\n",
      "\n",
      "Epoch 00003: val_f1_score improved from 0.82054 to 0.87226, saving model to ../ckpoints/base_daily1000_best_model.h5\n",
      "Epoch 4/20\n",
      "59/59 [==============================] - 2s 27ms/step - loss: 0.0373 - f1_score: 0.9877 - val_loss: 0.4018 - val_f1_score: 0.8889\n",
      "\n",
      "Epoch 00004: val_f1_score improved from 0.87226 to 0.88891, saving model to ../ckpoints/base_daily1000_best_model.h5\n",
      "Epoch 5/20\n",
      "59/59 [==============================] - 2s 27ms/step - loss: 0.0092 - f1_score: 0.9982 - val_loss: 0.4050 - val_f1_score: 0.8852\n",
      "\n",
      "Epoch 00005: val_f1_score did not improve from 0.88891\n",
      "Epoch 6/20\n",
      "59/59 [==============================] - 2s 27ms/step - loss: 0.0063 - f1_score: 0.9987 - val_loss: 0.4792 - val_f1_score: 0.8897\n",
      "\n",
      "Epoch 00006: val_f1_score improved from 0.88891 to 0.88967, saving model to ../ckpoints/base_daily1000_best_model.h5\n",
      "Epoch 7/20\n",
      "59/59 [==============================] - 2s 27ms/step - loss: 0.0027 - f1_score: 0.9995 - val_loss: 0.4964 - val_f1_score: 0.8830\n",
      "\n",
      "Epoch 00007: val_f1_score did not improve from 0.88967\n",
      "Epoch 8/20\n",
      "59/59 [==============================] - 2s 27ms/step - loss: 5.9000e-04 - f1_score: 1.0000 - val_loss: 0.5267 - val_f1_score: 0.8810\n",
      "\n",
      "Epoch 00008: val_f1_score did not improve from 0.88967\n",
      "Restoring model weights from the end of the best epoch.\n",
      "Epoch 00008: early stopping\n"
     ]
    },
    {
     "data": {
      "text/plain": [
       "<keras.callbacks.History at 0x76d41a0a5fd0>"
      ]
     },
     "execution_count": 51,
     "metadata": {},
     "output_type": "execute_result"
    }
   ],
   "source": [
    "model.fit(train_dataset, \n",
    "          validation_data=val_dataset, \n",
    "          epochs=20, \n",
    "          callbacks=[checkpoint_cb, earlystop_cb, csv_logger_cb])"
   ]
  },
  {
   "cell_type": "markdown",
   "id": "e9e3a156",
   "metadata": {},
   "source": [
    "### 모델 평가"
   ]
  },
  {
   "cell_type": "code",
   "execution_count": 53,
   "id": "fa838d1a",
   "metadata": {
    "scrolled": true
   },
   "outputs": [
    {
     "name": "stdout",
     "output_type": "stream",
     "text": [
      "8/8 [==============================] - 0s 12ms/step - loss: 0.4563 - f1_score: 0.8885\n",
      "✅ 테스트 결과 저장 완료: ../logs/base_daily1000_test.txt\n"
     ]
    }
   ],
   "source": [
    "# 저장된 best 모델 로드\n",
    "best_model = tf.keras.models.load_model(\n",
    "    f\"../ckpoints/{experiment_name}_best_model.h5\",\n",
    "    custom_objects={\n",
    "        \"F1Score\": F1Score,\n",
    "        \"TransformerBlock\": TransformerBlock\n",
    "    }\n",
    ")\n",
    "\n",
    "# 테스트 평가 및 로그 기록\n",
    "test_loss, test_f1 = best_model.evaluate(test_dataset)\n",
    "with open(test_log_path, \"w\") as f:\n",
    "    f.write(f\"Test Loss: {test_loss:.4f}\\n\")\n",
    "    f.write(f\"Test F1 Score: {test_f1:.4f}\\n\")\n",
    "print(f\"✅ 테스트 결과 저장 완료: {test_log_path}\")"
   ]
  },
  {
   "cell_type": "markdown",
   "id": "e61ad607",
   "metadata": {},
   "source": [
    "## 모든 데이터로 재학습"
   ]
  },
  {
   "cell_type": "markdown",
   "id": "aec847de",
   "metadata": {},
   "source": [
    "### 데이터 재분리"
   ]
  },
  {
   "cell_type": "code",
   "execution_count": 63,
   "id": "8edb71e0",
   "metadata": {},
   "outputs": [],
   "source": [
    "sent_train, sent_val, label_train, label_val = train_test_split(\n",
    "    sentences, encoded_labels, test_size=0.1, random_state=52, stratify=encoded_labels\n",
    ")\n",
    "\n",
    "train_dataset = tf.data.Dataset.from_tensor_slices((sent_train, label_train))\n",
    "train_dataset = train_dataset.shuffle(BUFFER_SIZE).batch(BATCH_SIZE).prefetch(tf.data.AUTOTUNE)\n",
    "\n",
    "val_dataset = tf.data.Dataset.from_tensor_slices((sent_val, label_val))\n",
    "val_dataset = val_dataset.batch(BATCH_SIZE).prefetch(tf.data.AUTOTUNE)"
   ]
  },
  {
   "cell_type": "markdown",
   "id": "a928c06c",
   "metadata": {},
   "source": [
    "### 모델 학습"
   ]
  },
  {
   "cell_type": "code",
   "execution_count": 65,
   "id": "c861c0f7",
   "metadata": {},
   "outputs": [
    {
     "name": "stdout",
     "output_type": "stream",
     "text": [
      "Epoch 1/20\n",
      "67/67 [==============================] - 3s 32ms/step - loss: 1.2890 - f1_score: 0.4163 - val_loss: 0.7989 - val_f1_score: 0.5938\n",
      "\n",
      "Epoch 00001: val_f1_score did not improve from 0.98900\n",
      "Epoch 2/20\n",
      "67/67 [==============================] - 2s 27ms/step - loss: 0.4512 - f1_score: 0.8242 - val_loss: 0.3327 - val_f1_score: 0.8817\n",
      "\n",
      "Epoch 00002: val_f1_score did not improve from 0.98900\n",
      "Epoch 3/20\n",
      "67/67 [==============================] - 2s 27ms/step - loss: 0.0965 - f1_score: 0.9697 - val_loss: 0.5909 - val_f1_score: 0.8587\n",
      "\n",
      "Epoch 00003: val_f1_score did not improve from 0.98900\n",
      "Epoch 4/20\n",
      "67/67 [==============================] - 2s 27ms/step - loss: 0.0439 - f1_score: 0.9859 - val_loss: 0.5980 - val_f1_score: 0.8503\n",
      "\n",
      "Epoch 00004: val_f1_score did not improve from 0.98900\n",
      "Restoring model weights from the end of the best epoch.\n",
      "Epoch 00004: early stopping\n"
     ]
    },
    {
     "data": {
      "text/plain": [
       "<keras.callbacks.History at 0x76d39a797b20>"
      ]
     },
     "execution_count": 65,
     "metadata": {},
     "output_type": "execute_result"
    }
   ],
   "source": [
    "model = model_wrapper.create_model()\n",
    "\n",
    "model.compile(optimizer=\"adam\", loss=loss_fn, metrics=[F1Score(num_classes=5, name=\"f1_score\")])\n",
    "model.fit(train_dataset, \n",
    "          validation_data=val_dataset, \n",
    "          epochs=20, \n",
    "          callbacks=[checkpoint_cb, earlystop_cb, csv_logger_cb])"
   ]
  },
  {
   "cell_type": "markdown",
   "id": "0d1508bc",
   "metadata": {},
   "source": [
    "## 테스트"
   ]
  },
  {
   "cell_type": "markdown",
   "id": "fe3fcb54",
   "metadata": {},
   "source": [
    "### 테스트 데이터 로드"
   ]
  },
  {
   "cell_type": "code",
   "execution_count": 66,
   "id": "b719f4e3",
   "metadata": {},
   "outputs": [],
   "source": [
    "test_df = pd.read_csv('../data/original_data/test.csv')"
   ]
  },
  {
   "cell_type": "markdown",
   "id": "e4bf8c64",
   "metadata": {},
   "source": [
    "### 테스트 결과(제출물) 저장 함수"
   ]
  },
  {
   "cell_type": "code",
   "execution_count": 67,
   "id": "957c64f4",
   "metadata": {},
   "outputs": [],
   "source": [
    "def generate_submission_csv(model_wrapper, test_sentences, output_filename, experiment_name):\n",
    "    # 0. 저장 경로 처리\n",
    "    base_dir = \"../data/results/\"\n",
    "    os.makedirs(base_dir, exist_ok=True)\n",
    "    full_output_path = os.path.join(base_dir, output_filename)\n",
    "\n",
    "    # 1. 베스트 모델 로드\n",
    "    model_path=f\"../ckpoints/{experiment_name}_best_model.h5\"\n",
    "    print(f\"🔍 베스트 모델 로드 중: {model_path}\")\n",
    "    model = tf.keras.models.load_model(\n",
    "        model_path,\n",
    "        custom_objects={\"F1Score\": F1Score, \"TransformerBlock\": TransformerBlock}\n",
    "    )\n",
    "\n",
    "    # 2. 정수 인코딩\n",
    "    encoded = model_wrapper.encode(test_sentences)\n",
    "\n",
    "    # 3. 패딩\n",
    "    test_inputs = tf.keras.preprocessing.sequence.pad_sequences(\n",
    "        encoded, maxlen=model_wrapper.MAX_LENGTH, padding='post'\n",
    "    )\n",
    "\n",
    "    # 4. 예측\n",
    "    model_path=f\"../ckpoints/{experiment_name}_best_model.h5\"\n",
    "    predictions = model.predict(test_inputs)\n",
    "    predicted_labels = tf.argmax(predictions, axis=1).numpy()\n",
    "\n",
    "    # 5. 제출 템플릿 불러오기 + 결과 저장\n",
    "    template_path = \"../data/original_data/submission.csv\"\n",
    "    submission_df = pd.read_csv(template_path)\n",
    "\n",
    "    # 🔄 열 이름 변경 및 예측 결과 삽입\n",
    "    submission_df.columns = [\"idx\", \"target\"]\n",
    "    submission_df[\"target\"] = predicted_labels\n",
    "\n",
    "    # 저장\n",
    "    submission_df.to_csv(full_output_path, index=False)\n",
    "    print(f\"✅ 케글 제출 파일 저장 완료: {full_output_path}\")\n",
    "\n",
    "    # 6. 사람이 확인할 수 있는 데이터프레임 반환\n",
    "    readable_df = pd.DataFrame({\n",
    "        \"text\": test_sentences,\n",
    "        \"예측 레이블 (정수)\": predicted_labels,\n",
    "        \"예측 레이블 (한글)\": decode_labels(predicted_labels)\n",
    "    })\n",
    "\n",
    "    return readable_df\n"
   ]
  },
  {
   "cell_type": "markdown",
   "id": "6519017b",
   "metadata": {},
   "source": [
    "### 테스트 결과 생성"
   ]
  },
  {
   "cell_type": "code",
   "execution_count": 68,
   "id": "e4d62397",
   "metadata": {},
   "outputs": [
    {
     "name": "stdout",
     "output_type": "stream",
     "text": [
      "🔍 베스트 모델 로드 중: ../ckpoints/base_daily1000_best_model.h5\n",
      "✅ 케글 제출 파일 저장 완료: ../data/results/base_daily1000.csv\n"
     ]
    }
   ],
   "source": [
    "# 테스트 문장 리스트 (예: test.csv에서 불러온 'text' 컬럼)\n",
    "test_sentences = test_df['text'].tolist()\n",
    "\n",
    "# 결과 저장\n",
    "test_res = generate_submission_csv(model_wrapper, test_sentences, f\"{experiment_name}.csv\", experiment_name)"
   ]
  },
  {
   "cell_type": "code",
   "execution_count": 69,
   "id": "fea6f34b",
   "metadata": {
    "scrolled": true
   },
   "outputs": [
    {
     "data": {
      "text/html": [
       "<div>\n",
       "<style scoped>\n",
       "    .dataframe tbody tr th:only-of-type {\n",
       "        vertical-align: middle;\n",
       "    }\n",
       "\n",
       "    .dataframe tbody tr th {\n",
       "        vertical-align: top;\n",
       "    }\n",
       "\n",
       "    .dataframe thead th {\n",
       "        text-align: right;\n",
       "    }\n",
       "</style>\n",
       "<table border=\"1\" class=\"dataframe\">\n",
       "  <thead>\n",
       "    <tr style=\"text-align: right;\">\n",
       "      <th></th>\n",
       "      <th>text</th>\n",
       "      <th>예측 레이블 (정수)</th>\n",
       "      <th>예측 레이블 (한글)</th>\n",
       "    </tr>\n",
       "  </thead>\n",
       "  <tbody>\n",
       "    <tr>\n",
       "      <th>0</th>\n",
       "      <td>아가씨 담배한갑주소 네 4500원입니다 어 네 지갑어디갔지 에이 버스에서 잃어버렸나...</td>\n",
       "      <td>1</td>\n",
       "      <td>갈취 대화</td>\n",
       "    </tr>\n",
       "    <tr>\n",
       "      <th>1</th>\n",
       "      <td>우리팀에서 다른팀으로 갈 사람 없나? 그럼 영지씨가 가는건 어때?  네? 제가요? ...</td>\n",
       "      <td>2</td>\n",
       "      <td>직장 내 괴롭힘 대화</td>\n",
       "    </tr>\n",
       "    <tr>\n",
       "      <th>2</th>\n",
       "      <td>너 오늘 그게 뭐야 네 제가 뭘 잘못했나요.? 제대로 좀 하지 네 똑바로 좀 하지 ...</td>\n",
       "      <td>2</td>\n",
       "      <td>직장 내 괴롭힘 대화</td>\n",
       "    </tr>\n",
       "    <tr>\n",
       "      <th>3</th>\n",
       "      <td>이거 들어바 와 이 노래 진짜 좋다 그치 요즘 이 것만 들어 진짜 너무 좋다 내가 ...</td>\n",
       "      <td>3</td>\n",
       "      <td>기타 괴롭힘 대화</td>\n",
       "    </tr>\n",
       "    <tr>\n",
       "      <th>4</th>\n",
       "      <td>아무튼 앞으로 니가 내 와이파이야. .응 와이파이 온. 켰어. 반말? 주인님이라고도...</td>\n",
       "      <td>2</td>\n",
       "      <td>직장 내 괴롭힘 대화</td>\n",
       "    </tr>\n",
       "    <tr>\n",
       "      <th>5</th>\n",
       "      <td>그러니까 빨리 말해. 선생님 제발 살려주십시오.  비밀번호 틀릴 때마다 손톱 하나씩...</td>\n",
       "      <td>0</td>\n",
       "      <td>협박 대화</td>\n",
       "    </tr>\n",
       "    <tr>\n",
       "      <th>6</th>\n",
       "      <td>그 사람 누구냐?  누구말하는거야?  다 알면서 모른척 하지마. 둘다 쏴버리기 전에...</td>\n",
       "      <td>0</td>\n",
       "      <td>협박 대화</td>\n",
       "    </tr>\n",
       "    <tr>\n",
       "      <th>7</th>\n",
       "      <td>야 저기야 닭꼬치 트럭왔다 응 그러네 그치? 너도 먹고 싶지? 어?나도? 그래 너 ...</td>\n",
       "      <td>1</td>\n",
       "      <td>갈취 대화</td>\n",
       "    </tr>\n",
       "    <tr>\n",
       "      <th>8</th>\n",
       "      <td>안경 안쓰고 키작고통통해보이는 분이었는데 다안경안씀  쌍꺼풀없었던것같고 아 단발인가...</td>\n",
       "      <td>3</td>\n",
       "      <td>기타 괴롭힘 대화</td>\n",
       "    </tr>\n",
       "    <tr>\n",
       "      <th>9</th>\n",
       "      <td>야 너 2학년 김민석 맞지? 네 맞는데요. 혹시 누구신가요? 내가 누군지 궁금하면 ...</td>\n",
       "      <td>1</td>\n",
       "      <td>갈취 대화</td>\n",
       "    </tr>\n",
       "  </tbody>\n",
       "</table>\n",
       "</div>"
      ],
      "text/plain": [
       "                                                text  예측 레이블 (정수)  예측 레이블 (한글)\n",
       "0  아가씨 담배한갑주소 네 4500원입니다 어 네 지갑어디갔지 에이 버스에서 잃어버렸나...            1        갈취 대화\n",
       "1  우리팀에서 다른팀으로 갈 사람 없나? 그럼 영지씨가 가는건 어때?  네? 제가요? ...            2  직장 내 괴롭힘 대화\n",
       "2  너 오늘 그게 뭐야 네 제가 뭘 잘못했나요.? 제대로 좀 하지 네 똑바로 좀 하지 ...            2  직장 내 괴롭힘 대화\n",
       "3  이거 들어바 와 이 노래 진짜 좋다 그치 요즘 이 것만 들어 진짜 너무 좋다 내가 ...            3    기타 괴롭힘 대화\n",
       "4  아무튼 앞으로 니가 내 와이파이야. .응 와이파이 온. 켰어. 반말? 주인님이라고도...            2  직장 내 괴롭힘 대화\n",
       "5  그러니까 빨리 말해. 선생님 제발 살려주십시오.  비밀번호 틀릴 때마다 손톱 하나씩...            0        협박 대화\n",
       "6  그 사람 누구냐?  누구말하는거야?  다 알면서 모른척 하지마. 둘다 쏴버리기 전에...            0        협박 대화\n",
       "7  야 저기야 닭꼬치 트럭왔다 응 그러네 그치? 너도 먹고 싶지? 어?나도? 그래 너 ...            1        갈취 대화\n",
       "8  안경 안쓰고 키작고통통해보이는 분이었는데 다안경안씀  쌍꺼풀없었던것같고 아 단발인가...            3    기타 괴롭힘 대화\n",
       "9  야 너 2학년 김민석 맞지? 네 맞는데요. 혹시 누구신가요? 내가 누군지 궁금하면 ...            1        갈취 대화"
      ]
     },
     "execution_count": 69,
     "metadata": {},
     "output_type": "execute_result"
    }
   ],
   "source": [
    "test_res.head(10)"
   ]
  },
  {
   "cell_type": "code",
   "execution_count": null,
   "id": "73b8e6fb",
   "metadata": {},
   "outputs": [],
   "source": []
  }
 ],
 "metadata": {
  "kernelspec": {
   "display_name": "Python 3 (ipykernel)",
   "language": "python",
   "name": "python3"
  },
  "language_info": {
   "codemirror_mode": {
    "name": "ipython",
    "version": 3
   },
   "file_extension": ".py",
   "mimetype": "text/x-python",
   "name": "python",
   "nbconvert_exporter": "python",
   "pygments_lexer": "ipython3",
   "version": "3.9.7"
  }
 },
 "nbformat": 4,
 "nbformat_minor": 5
}
