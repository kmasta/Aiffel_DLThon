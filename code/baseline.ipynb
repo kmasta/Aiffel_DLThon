{
 "cells": [
  {
   "cell_type": "markdown",
   "id": "15c33200",
   "metadata": {},
   "source": [
    "# Baseline Code"
   ]
  },
  {
   "cell_type": "markdown",
   "id": "3d1bcab6",
   "metadata": {},
   "source": [
    "## 라이브러리 불러오기"
   ]
  },
  {
   "cell_type": "code",
   "execution_count": 1,
   "id": "cf0ec463",
   "metadata": {
    "vscode": {
     "languageId": "plaintext"
    }
   },
   "outputs": [],
   "source": [
    "import tensorflow as tf\n",
    "import tensorflow_datasets as tfds\n",
    "import os\n",
    "import re\n",
    "import numpy as np\n",
    "import matplotlib.pyplot as plt\n",
    "import pandas as pd"
   ]
  },
  {
   "cell_type": "markdown",
   "id": "cf0e5688",
   "metadata": {},
   "source": [
    "## 데이터 받아오기"
   ]
  },
  {
   "cell_type": "code",
   "execution_count": 9,
   "id": "15f679fc",
   "metadata": {},
   "outputs": [],
   "source": [
    "def load_chat_data(filepath):\n",
    "    df = pd.read_csv(filepath)\n",
    "    \n",
    "    labels = df.iloc[:, 1].astype(str).tolist()\n",
    "    sentences = df.iloc[:, 2].astype(str).tolist()\n",
    "\n",
    "    return labels, sentences"
   ]
  },
  {
   "cell_type": "code",
   "execution_count": 11,
   "id": "d9255ee4",
   "metadata": {
    "scrolled": true,
    "vscode": {
     "languageId": "plaintext"
    }
   },
   "outputs": [
    {
     "name": "stdout",
     "output_type": "stream",
     "text": [
      "질문 예시: ['협박 대화']\n",
      "답변 예시: ['지금 너 스스로를 죽여달라고 애원하는 것인가?\\n 아닙니다. 죄송합니다.\\n 죽을 거면 혼자 죽지 우리까지 사건에 휘말리게 해? 진짜 죽여버리고 싶게.\\n 정말 잘못했습니다.\\n 너가 선택해. 너가 죽을래 네 가족을 죽여줄까.\\n 죄송합니다. 정말 잘못했습니다.\\n 너에게는 선택권이 없어. 선택 못한다면 너와 네 가족까지 모조리 죽여버릴거야.\\n 선택 못하겠습니다. 한번만 도와주세요.\\n 그냥 다 죽여버려야겠군. 이의 없지?\\n 제발 도와주세요.']\n"
     ]
    }
   ],
   "source": [
    "original_train_data_path =\"../data/original_data/original_train.csv\"\n",
    "# 아래 경로는 예시입니다.\n",
    "augmented_train_data_path =\"../data/augmentation_data/augmentation_train.csv\"\n",
    "general_train_data_path =\"../data/general_data/general_train.csv\"\n",
    "\n",
    "labels, sentences = load_chat_data(original_train_data_path)\n",
    "print(\"질문 예시:\", labels[:1])\n",
    "print(\"답변 예시:\", sentences[:1])"
   ]
  },
  {
   "cell_type": "markdown",
   "id": "99a5a984",
   "metadata": {},
   "source": [
    "## 데이터 전처리"
   ]
  },
  {
   "cell_type": "markdown",
   "id": "58ff9f54",
   "metadata": {},
   "source": [
    "### 데이터 전처리 함수 불러와서 사용"
   ]
  },
  {
   "cell_type": "code",
   "execution_count": 13,
   "id": "8cc29f4a",
   "metadata": {
    "vscode": {
     "languageId": "plaintext"
    }
   },
   "outputs": [
    {
     "name": "stdout",
     "output_type": "stream",
     "text": [
      "와 ! 진짜대박 123 진짜\n"
     ]
    }
   ],
   "source": [
    "from .preprocessing.vanila_preprocess import *\n",
    "\n",
    "example = \"와!진짜대박123진짜\"\n",
    "print(preprocess_sentence(example))"
   ]
  },
  {
   "cell_type": "code",
   "execution_count": 14,
   "id": "931b2f54",
   "metadata": {
    "scrolled": false
   },
   "outputs": [
    {
     "name": "stdout",
     "output_type": "stream",
     "text": [
      "문장 예시: 경비아저씨 내차에 경고장 붙였어요 ? 내가 여기 몇년째 사는데 아직도 내차인줄 모르고 이딴식으로 경고장을 붙여 ? 입주민께서 정해진 주차자리가 아닌 통로에 계속 주차하셔서 입주민들 항의가 계속 들어옵니다 . 내가 항상 대는 거기 자리가 없으니까 그렇지 . 내차 이거 어떻게 할거요 ? 얼마짜린줄 알아 ? 수차례 인터폰도 드렸고 경고장을 올렸으나 몇일째 그대로 인지라 아파트규약에 맞춰 어쩔수 없었습니다 그렇다고 본드로 붙이면 어떻게 ? 당장 이거 깨끗히 원상복구시키고 세차해와 그럴 수는 없습니다 . 내가 낸 관리비로 월급받는 주제에 뭐라는거야 ? 안붙혔으면 되잖아 . 나 지금 거기 가요 ! 말씀이 과하신거 아닙니까 ? 딱 기다려요 이름뭐죠 ? 나 지금 가면 당신 이제 끝이야\n"
     ]
    }
   ],
   "source": [
    "sentences = [preprocess_sentence(s) for s in sentences]\n",
    "print(\"대화 예시:\", sentences[7])"
   ]
  },
  {
   "cell_type": "markdown",
   "id": "6c37cf8b",
   "metadata": {},
   "source": [
    "### 단어장 만들기 & 정수 인코딩"
   ]
  },
  {
   "cell_type": "code",
   "execution_count": 25,
   "id": "9c3d6162",
   "metadata": {},
   "outputs": [
    {
     "name": "stdout",
     "output_type": "stream",
     "text": [
      "살짝 오래 걸릴 수 있어요. 스트레칭 한 번 해볼까요? 👐\n",
      "슝=3 \n"
     ]
    }
   ],
   "source": [
    "import tensorflow_datasets as tfds\n",
    "print(\"살짝 오래 걸릴 수 있어요. 스트레칭 한 번 해볼까요? 👐\")\n",
    "\n",
    "# 질문과 답변 데이터셋에 대해서 Vocabulary 생성\n",
    "tokenizer = tfds.deprecated.text.SubwordTextEncoder.build_from_corpus(sentences, target_vocab_size=2**13)\n",
    "print(\"슝=3 \")"
   ]
  },
  {
   "cell_type": "code",
   "execution_count": 26,
   "id": "25c89d78",
   "metadata": {},
   "outputs": [],
   "source": [
    "START_TOKEN, END_TOKEN = [tokenizer.vocab_size], [tokenizer.vocab_size + 1]"
   ]
  },
  {
   "cell_type": "code",
   "execution_count": 27,
   "id": "1d7b3419",
   "metadata": {},
   "outputs": [
    {
     "name": "stdout",
     "output_type": "stream",
     "text": [
      "8031\n"
     ]
    }
   ],
   "source": [
    "VOCAB_SIZE = tokenizer.vocab_size + 2\n",
    "print(VOCAB_SIZE)"
   ]
  },
  {
   "cell_type": "markdown",
   "id": "789591e2",
   "metadata": {},
   "source": [
    "### 정수 인코딩"
   ]
  },
  {
   "cell_type": "code",
   "execution_count": 28,
   "id": "c1cd951a",
   "metadata": {},
   "outputs": [],
   "source": [
    "# 정수 인코딩\n",
    "def tokenize(sentences):\n",
    "    \n",
    "    tokenized_sentences = []\n",
    "  \n",
    "    for sentence in sentences:\n",
    "        # 정수 인코딩 과정에서 시작 토큰과 종료 토큰을 추가\n",
    "        sentence = START_TOKEN + tokenizer.encode(sentence) + END_TOKEN\n",
    "        tokenized_sentences.append(sentence)\n",
    "  \n",
    "    return tokenized_sentences\n",
    "\n",
    "tokenized_sentences = tokenize(sentences)"
   ]
  },
  {
   "cell_type": "markdown",
   "id": "021dc956",
   "metadata": {},
   "source": [
    "### 데이터 확인"
   ]
  },
  {
   "cell_type": "code",
   "execution_count": 30,
   "id": "6fbe4fa5",
   "metadata": {
    "scrolled": true
   },
   "outputs": [
    {
     "name": "stderr",
     "output_type": "stream",
     "text": [
      "WARNING:matplotlib.legend:No handles with labels found to put in legend.\n"
     ]
    },
    {
     "data": {
      "image/png": "[encoded data removed]",
      "text/plain": [
       "<Figure size 432x288 with 1 Axes>"
      ]
     },
     "metadata": {
      "needs_background": "light"
     },
     "output_type": "display_data"
    }
   ],
   "source": [
    "sentence_lengths = [len(s) for s in tokenized_sentences]\n",
    "\n",
    "plt.hist(sentence_lengths, bins=50, alpha=0.6)\n",
    "plt.xlabel('Length')\n",
    "plt.ylabel('Count')\n",
    "plt.title('Token Length Distribution')\n",
    "plt.legend()\n",
    "plt.show()"
   ]
  },
  {
   "cell_type": "code",
   "execution_count": 31,
   "id": "a721f96a",
   "metadata": {
    "scrolled": true
   },
   "outputs": [
    {
     "name": "stdout",
     "output_type": "stream",
     "text": [
      "질문 최대 길이: 394\n",
      "95% 답변 길이: 190.0\n"
     ]
    }
   ],
   "source": [
    "print(\"질문 최대 길이:\", np.max(sentence_lengths))\n",
    "\n",
    "print(\"95% 답변 길이:\", np.percentile(sentence_lengths, 95))"
   ]
  },
  {
   "cell_type": "code",
   "execution_count": 42,
   "id": "7df03e01",
   "metadata": {},
   "outputs": [],
   "source": [
    "MAX_LENGTH = 200\n",
    "\n",
    "# 최대 길이를 초과하는 샘플 제거, 패딩\n",
    "def filter(sentences, labels):\n",
    "    filtered_sentences, filtered_labels = [], []\n",
    "  \n",
    "    for sentence, label in zip(sentences, labels):\n",
    "    # 최대 길이 15 이하인 경우에만 데이터셋으로 허용\n",
    "        if len(sentence) <= MAX_LENGTH:\n",
    "            filtered_sentences.append(sentence)\n",
    "            filtered_labels.append(label)\n",
    "  \n",
    "  # 최대 길이 15로 모든 데이터셋을 패딩\n",
    "    filtered_sentences = tf.keras.preprocessing.sequence.pad_sequences(\n",
    "        filtered_sentences, maxlen=MAX_LENGTH, padding='post')\n",
    "  \n",
    "    return filtered_sentences, filtered_labels\n",
    "\n",
    "sentences, labels = filter(tokenized_sentences, labels)"
   ]
  },
  {
   "cell_type": "code",
   "execution_count": 35,
   "id": "62b292f2",
   "metadata": {
    "scrolled": true
   },
   "outputs": [
    {
     "name": "stdout",
     "output_type": "stream",
     "text": [
      "필터링&패딩 후의 21번째 샘플: [8029   28 3283  597  173  667 1169  239  704 2609 1691   20 1773   55\n",
      "  206 2377  464  175 4155  149 1599   20 2579 1162   15    4 1760 6234\n",
      " 1077  665   47  360 7683   17    5    5 5126  123 2679  904 7676  142\n",
      " 2042 2130  223 4564   15 1252    2  213 8009 7946 7909 8009 7946 7909\n",
      " 7805 7217  500  459 2757   22    2   14  113 7079 7805    6 5000   16\n",
      "   58  931 1260 2368  351 8030    0    0    0    0    0    0    0    0\n",
      "    0    0    0    0    0    0    0    0    0    0    0    0    0    0\n",
      "    0    0    0    0    0    0    0    0    0    0    0    0    0    0\n",
      "    0    0    0    0    0    0    0    0    0    0    0    0    0    0\n",
      "    0    0    0    0    0    0    0    0    0    0    0    0    0    0\n",
      "    0    0    0    0    0    0    0    0    0    0    0    0    0    0\n",
      "    0    0    0    0    0    0    0    0    0    0    0    0    0    0\n",
      "    0    0    0    0    0    0    0    0    0    0    0    0    0    0\n",
      "    0    0    0    0    0    0    0    0    0    0    0    0    0    0\n",
      "    0    0    0    0]\n"
     ]
    }
   ],
   "source": [
    "print('필터링&패딩 후의 21번째 샘플: {}'.format(sentences[21]))"
   ]
  },
  {
   "cell_type": "code",
   "execution_count": 36,
   "id": "7c9f6092",
   "metadata": {
    "scrolled": false
   },
   "outputs": [
    {
     "name": "stdout",
     "output_type": "stream",
     "text": [
      "단어장의 크기 : 8031\n",
      "필터링 후의 샘플 개수: 3795\n"
     ]
    }
   ],
   "source": [
    "print('단어장의 크기 :',(VOCAB_SIZE))\n",
    "print('필터링 후의 샘플 개수: {}'.format(len(sentences)))"
   ]
  },
  {
   "cell_type": "markdown",
   "id": "0c27276f",
   "metadata": {},
   "source": [
    "### 레이블 원-핫 인코딩"
   ]
  },
  {
   "cell_type": "code",
   "execution_count": 43,
   "id": "cfe713ac",
   "metadata": {},
   "outputs": [
    {
     "name": "stdout",
     "output_type": "stream",
     "text": [
      "[[0. 0. 0. 1.]\n",
      " [0. 0. 0. 1.]\n",
      " [0. 1. 0. 0.]]\n"
     ]
    }
   ],
   "source": [
    "from sklearn.preprocessing import LabelEncoder\n",
    "from tensorflow.keras.utils import to_categorical\n",
    "\n",
    "# 1. LabelEncoder로 정수 인코딩\n",
    "label_encoder = LabelEncoder()\n",
    "integer_encoded = label_encoder.fit_transform(labels)\n",
    "\n",
    "# 2. One-hot 인코딩\n",
    "onehot_labels = to_categorical(integer_encoded)\n",
    "\n",
    "print(onehot_labels[:3])"
   ]
  },
  {
   "cell_type": "markdown",
   "id": "c746c08e",
   "metadata": {},
   "source": [
    "### 데이터셋 구성"
   ]
  },
  {
   "cell_type": "code",
   "execution_count": 45,
   "id": "296e2b4c",
   "metadata": {},
   "outputs": [],
   "source": [
    "from sklearn.model_selection import train_test_split\n",
    "\n",
    "# 문장과 레이블을 train/val로 나누기\n",
    "sent_train, sent_val, label_train, label_val = train_test_split(\n",
    "    sentences, onehot_labels, test_size=0.2, random_state=42, stratify=onehot_labels\n",
    ")"
   ]
  },
  {
   "cell_type": "code",
   "execution_count": 46,
   "id": "38792813",
   "metadata": {},
   "outputs": [],
   "source": [
    "BATCH_SIZE = 64\n",
    "BUFFER_SIZE = 10000\n",
    "\n",
    "train_dataset = tf.data.Dataset.from_tensor_slices((sent_train, label_train))\n",
    "train_dataset = train_dataset.shuffle(BUFFER_SIZE).batch(BATCH_SIZE).prefetch(tf.data.AUTOTUNE)\n",
    "\n",
    "val_dataset = tf.data.Dataset.from_tensor_slices((sent_val, label_val))\n",
    "val_dataset = val_dataset.batch(BATCH_SIZE).prefetch(tf.data.AUTOTUNE)"
   ]
  },
  {
   "cell_type": "markdown",
   "id": "4e53e5c2",
   "metadata": {},
   "source": [
    "## 모델 구성"
   ]
  },
  {
   "cell_type": "code",
   "execution_count": 52,
   "id": "4097bfac",
   "metadata": {
    "vscode": {
     "languageId": "plaintext"
    }
   },
   "outputs": [
    {
     "name": "stdout",
     "output_type": "stream",
     "text": [
      "Model: \"model_3\"\n",
      "_________________________________________________________________\n",
      "Layer (type)                 Output Shape              Param #   \n",
      "=================================================================\n",
      "input_4 (InputLayer)         [(None, 200)]             0         \n",
      "_________________________________________________________________\n",
      "embedding_3 (Embedding)      (None, 200, 128)          1027968   \n",
      "_________________________________________________________________\n",
      "transformer_block_3 (Transfo (None, 200, 128)          330240    \n",
      "_________________________________________________________________\n",
      "global_average_pooling1d_3 ( (None, 128)               0         \n",
      "_________________________________________________________________\n",
      "dropout_14 (Dropout)         (None, 128)               0         \n",
      "_________________________________________________________________\n",
      "dense_14 (Dense)             (None, 64)                8256      \n",
      "_________________________________________________________________\n",
      "dropout_15 (Dropout)         (None, 64)                0         \n",
      "_________________________________________________________________\n",
      "dense_15 (Dense)             (None, 4)                 260       \n",
      "=================================================================\n",
      "Total params: 1,366,724\n",
      "Trainable params: 1,366,724\n",
      "Non-trainable params: 0\n",
      "_________________________________________________________________\n"
     ]
    }
   ],
   "source": [
    "from .models.vanila_model import *\n",
    "\n",
    "# 하이퍼파라미터 정의\n",
    "# 클래스 개수는 일반 대화가 있는 경우 5로 사용\n",
    "NUM_CLASSES = 4\n",
    "\n",
    "model = create_transformer_classifier(\n",
    "    vocab_size=VOCAB_SIZE,\n",
    "    maxlen=MAX_LENGTH,\n",
    "    embed_dim=128,\n",
    "    num_heads=4,\n",
    "    ff_dim=256,\n",
    "    num_classes=NUM_CLASSES\n",
    ")\n",
    "\n",
    "model.compile(optimizer=\"adam\", loss=\"categorical_crossentropy\", metrics=[\"accuracy\"])\n",
    "model.summary()"
   ]
  },
  {
   "cell_type": "markdown",
   "id": "07b7ed17",
   "metadata": {},
   "source": [
    "## 모델 학습"
   ]
  },
  {
   "cell_type": "code",
   "execution_count": 53,
   "id": "fb58dc84",
   "metadata": {
    "scrolled": false,
    "vscode": {
     "languageId": "plaintext"
    }
   },
   "outputs": [
    {
     "name": "stdout",
     "output_type": "stream",
     "text": [
      "Epoch 1/5\n",
      "48/48 [==============================] - 3s 37ms/step - loss: 1.3954 - accuracy: 0.2925 - val_loss: 1.3440 - val_accuracy: 0.3030\n",
      "Epoch 2/5\n",
      "48/48 [==============================] - 2s 32ms/step - loss: 1.0162 - accuracy: 0.5626 - val_loss: 0.4919 - val_accuracy: 0.8195\n",
      "Epoch 3/5\n",
      "48/48 [==============================] - 2s 32ms/step - loss: 0.2250 - accuracy: 0.9305 - val_loss: 0.3794 - val_accuracy: 0.8762\n",
      "Epoch 4/5\n",
      "48/48 [==============================] - 2s 32ms/step - loss: 0.0420 - accuracy: 0.9904 - val_loss: 0.6028 - val_accuracy: 0.8445\n",
      "Epoch 5/5\n",
      "48/48 [==============================] - 2s 32ms/step - loss: 0.0135 - accuracy: 0.9967 - val_loss: 0.5856 - val_accuracy: 0.8656\n"
     ]
    },
    {
     "data": {
      "text/plain": [
       "<keras.callbacks.History at 0x79f286048310>"
      ]
     },
     "execution_count": 53,
     "metadata": {},
     "output_type": "execute_result"
    }
   ],
   "source": [
    "model.fit(train_dataset, validation_data=val_dataset, epochs=5)"
   ]
  },
  {
   "cell_type": "markdown",
   "id": "a7aaf6b7",
   "metadata": {},
   "source": [
    "## 테스트"
   ]
  },
  {
   "cell_type": "markdown",
   "id": "5f53651b",
   "metadata": {},
   "source": [
    "### 테스트 데이터 로드"
   ]
  },
  {
   "cell_type": "code",
   "execution_count": 54,
   "id": "8e46bdb6",
   "metadata": {},
   "outputs": [],
   "source": [
    "test_df = pd.read_csv('../data/original_data/test.csv')"
   ]
  },
  {
   "cell_type": "code",
   "execution_count": 55,
   "id": "04c1fdab",
   "metadata": {},
   "outputs": [],
   "source": [
    "test_sentences = test_df['text'].apply(preprocess_sentence)\n",
    "\n",
    "# 토크나이저로 정수 인코딩\n",
    "# (train 때 사용한 tokenizer를 그대로 사용해야 함)\n",
    "test_sentences = tokenize(test_sentences)\n",
    "\n",
    "test_sentences = tf.keras.preprocessing.sequence.pad_sequences(\n",
    "    test_sentences, maxlen=MAX_LENGTH, padding='post')"
   ]
  },
  {
   "cell_type": "code",
   "execution_count": 57,
   "id": "7211906b",
   "metadata": {},
   "outputs": [],
   "source": [
    "pred_probs = model.predict(test_sentences)  # shape: (num_samples, num_classes)\n",
    "pred_classes = pred_probs.argmax(axis=1)  # 정수 인덱스 예측"
   ]
  },
  {
   "cell_type": "code",
   "execution_count": 58,
   "id": "63cd4c51",
   "metadata": {},
   "outputs": [],
   "source": [
    "pred_labels = label_encoder.inverse_transform(pred_classes)"
   ]
  },
  {
   "cell_type": "code",
   "execution_count": 62,
   "id": "c400a39c",
   "metadata": {},
   "outputs": [],
   "source": [
    "test_df['predicted_label'] = pred_labels\n",
    "test_df.to_csv('../data/results/test_predictions.csv', index=False)"
   ]
  },
  {
   "cell_type": "code",
   "execution_count": 63,
   "id": "a5a5fbeb",
   "metadata": {},
   "outputs": [
    {
     "data": {
      "text/html": [
       "<div>\n",
       "<style scoped>\n",
       "    .dataframe tbody tr th:only-of-type {\n",
       "        vertical-align: middle;\n",
       "    }\n",
       "\n",
       "    .dataframe tbody tr th {\n",
       "        vertical-align: top;\n",
       "    }\n",
       "\n",
       "    .dataframe thead th {\n",
       "        text-align: right;\n",
       "    }\n",
       "</style>\n",
       "<table border=\"1\" class=\"dataframe\">\n",
       "  <thead>\n",
       "    <tr style=\"text-align: right;\">\n",
       "      <th></th>\n",
       "      <th>idx</th>\n",
       "      <th>text</th>\n",
       "      <th>predicted_label</th>\n",
       "    </tr>\n",
       "  </thead>\n",
       "  <tbody>\n",
       "    <tr>\n",
       "      <th>0</th>\n",
       "      <td>t_000</td>\n",
       "      <td>아가씨 담배한갑주소 네 4500원입니다 어 네 지갑어디갔지 에이 버스에서 잃어버렸나...</td>\n",
       "      <td>협박 대화</td>\n",
       "    </tr>\n",
       "    <tr>\n",
       "      <th>1</th>\n",
       "      <td>t_001</td>\n",
       "      <td>우리팀에서 다른팀으로 갈 사람 없나? 그럼 영지씨가 가는건 어때?  네? 제가요? ...</td>\n",
       "      <td>직장 내 괴롭힘 대화</td>\n",
       "    </tr>\n",
       "    <tr>\n",
       "      <th>2</th>\n",
       "      <td>t_002</td>\n",
       "      <td>너 오늘 그게 뭐야 네 제가 뭘 잘못했나요.? 제대로 좀 하지 네 똑바로 좀 하지 ...</td>\n",
       "      <td>직장 내 괴롭힘 대화</td>\n",
       "    </tr>\n",
       "    <tr>\n",
       "      <th>3</th>\n",
       "      <td>t_003</td>\n",
       "      <td>이거 들어바 와 이 노래 진짜 좋다 그치 요즘 이 것만 들어 진짜 너무 좋다 내가 ...</td>\n",
       "      <td>직장 내 괴롭힘 대화</td>\n",
       "    </tr>\n",
       "    <tr>\n",
       "      <th>4</th>\n",
       "      <td>t_004</td>\n",
       "      <td>아무튼 앞으로 니가 내 와이파이야. .응 와이파이 온. 켰어. 반말? 주인님이라고도...</td>\n",
       "      <td>직장 내 괴롭힘 대화</td>\n",
       "    </tr>\n",
       "  </tbody>\n",
       "</table>\n",
       "</div>"
      ],
      "text/plain": [
       "     idx                                               text predicted_label\n",
       "0  t_000  아가씨 담배한갑주소 네 4500원입니다 어 네 지갑어디갔지 에이 버스에서 잃어버렸나...           협박 대화\n",
       "1  t_001  우리팀에서 다른팀으로 갈 사람 없나? 그럼 영지씨가 가는건 어때?  네? 제가요? ...     직장 내 괴롭힘 대화\n",
       "2  t_002  너 오늘 그게 뭐야 네 제가 뭘 잘못했나요.? 제대로 좀 하지 네 똑바로 좀 하지 ...     직장 내 괴롭힘 대화\n",
       "3  t_003  이거 들어바 와 이 노래 진짜 좋다 그치 요즘 이 것만 들어 진짜 너무 좋다 내가 ...     직장 내 괴롭힘 대화\n",
       "4  t_004  아무튼 앞으로 니가 내 와이파이야. .응 와이파이 온. 켰어. 반말? 주인님이라고도...     직장 내 괴롭힘 대화"
      ]
     },
     "execution_count": 63,
     "metadata": {},
     "output_type": "execute_result"
    }
   ],
   "source": [
    "test_df.head()"
   ]
  },
  {
   "cell_type": "code",
   "execution_count": null,
   "id": "b4a0c59b",
   "metadata": {},
   "outputs": [],
   "source": []
  }
 ],
 "metadata": {
  "kernelspec": {
   "display_name": "Python 3 (ipykernel)",
   "language": "python",
   "name": "python3"
  },
  "language_info": {
   "codemirror_mode": {
    "name": "ipython",
    "version": 3
   },
   "file_extension": ".py",
   "mimetype": "text/x-python",
   "name": "python",
   "nbconvert_exporter": "python",
   "pygments_lexer": "ipython3",
   "version": "3.9.7"
  }
 },
 "nbformat": 4,
 "nbformat_minor": 5
}
